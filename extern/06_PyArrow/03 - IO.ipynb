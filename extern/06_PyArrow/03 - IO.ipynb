{
 "cells": [
  {
   "cell_type": "code",
   "execution_count": 1,
   "metadata": {},
   "outputs": [],
   "source": [
    "%load_ext memory_profiler"
   ]
  },
  {
   "cell_type": "code",
   "execution_count": 18,
   "metadata": {},
   "outputs": [],
   "source": [
    "import pyarrow as pa\n",
    "from datetime import datetime"
   ]
  },
  {
   "cell_type": "code",
   "execution_count": 12,
   "metadata": {},
   "outputs": [],
   "source": [
    "with pa.OSFile('data/example_01.dat', 'wb') as f:\n",
    "    f.write(b'some example data' * 30 * 1024 * 1024)"
   ]
  },
  {
   "cell_type": "code",
   "execution_count": 13,
   "metadata": {},
   "outputs": [
    {
     "name": "stdout",
     "output_type": "stream",
     "text": [
      "total 511M\n",
      "-rw-r--r-- 1 jovyan users 510M Aug 10 13:11 example_01.dat\n"
     ]
    }
   ],
   "source": [
    "%ls -lh data "
   ]
  },
  {
   "cell_type": "code",
   "execution_count": 3,
   "metadata": {},
   "outputs": [
    {
     "name": "stdout",
     "output_type": "stream",
     "text": [
      "peak memory: 66.13 MiB, increment: 0.51 MiB\n"
     ]
    }
   ],
   "source": [
    "%%memit\n",
    "mmap = pa.memory_map('data/example_01.dat')"
   ]
  },
  {
   "cell_type": "code",
   "execution_count": 13,
   "metadata": {},
   "outputs": [
    {
     "data": {
      "text/plain": [
       "0"
      ]
     },
     "execution_count": 13,
     "metadata": {},
     "output_type": "execute_result"
    }
   ],
   "source": [
    "mmap.seek(0)"
   ]
  },
  {
   "cell_type": "code",
   "execution_count": 14,
   "metadata": {},
   "outputs": [],
   "source": [
    "buf = mmap.read_buffer(10)"
   ]
  },
  {
   "cell_type": "code",
   "execution_count": 16,
   "metadata": {},
   "outputs": [
    {
     "data": {
      "text/plain": [
       "10"
      ]
     },
     "execution_count": 16,
     "metadata": {},
     "output_type": "execute_result"
    }
   ],
   "source": [
    "buf.size"
   ]
  },
  {
   "cell_type": "code",
   "execution_count": 17,
   "metadata": {},
   "outputs": [
    {
     "name": "stderr",
     "output_type": "stream",
     "text": [
      "/opt/conda/lib/python3.7/site-packages/ipykernel_launcher.py:4: DeprecationWarning: Using or importing the ABCs from 'collections' instead of from 'collections.abc' is deprecated, and in 3.8 it will stop working\n",
      "  after removing the cwd from sys.path.\n"
     ]
    }
   ],
   "source": [
    "my_schema = pa.schema([('integer', pa.int32()),\n",
    "                       ('text', pa.string()),\n",
    "                       ('binary', pa.binary(10)),\n",
    "                       ('Time', pa.timestamp('ms'))])"
   ]
  },
  {
   "cell_type": "code",
   "execution_count": 19,
   "metadata": {},
   "outputs": [],
   "source": [
    "data = [\n",
    "    pa.array([1, 2, 3, 4]),\n",
    "    pa.array(['foo', 'bar', 'baz', None]),\n",
    "    pa.array([0b0100, None, 0b0100, 0b0100]),\n",
    "    pa.array((datetime(2019,8,i) for i in range(1, 5)))\n",
    "]"
   ]
  },
  {
   "cell_type": "markdown",
   "metadata": {},
   "source": [
    "A **Record Batch** in Apache Arrow is a collection of equal-length array instances."
   ]
  },
  {
   "cell_type": "code",
   "execution_count": 56,
   "metadata": {},
   "outputs": [
    {
     "data": {
      "text/plain": [
       "\u001b[0;31mInit signature:\u001b[0m \u001b[0mpa\u001b[0m\u001b[0;34m.\u001b[0m\u001b[0mRecordBatch\u001b[0m\u001b[0;34m(\u001b[0m\u001b[0mself\u001b[0m\u001b[0;34m,\u001b[0m \u001b[0;34m/\u001b[0m\u001b[0;34m,\u001b[0m \u001b[0;34m*\u001b[0m\u001b[0margs\u001b[0m\u001b[0;34m,\u001b[0m \u001b[0;34m**\u001b[0m\u001b[0mkwargs\u001b[0m\u001b[0;34m)\u001b[0m\u001b[0;34m\u001b[0m\u001b[0;34m\u001b[0m\u001b[0m\n",
       "\u001b[0;31mDocstring:\u001b[0m     \n",
       "RecordBatch()\n",
       "\n",
       "Batch of rows of columns of equal length\n",
       "\n",
       "Warning\n",
       "-------\n",
       "Do not call this class's constructor directly, use one of the\n",
       "``RecordBatch.from_*`` functions instead.\n",
       "\u001b[0;31mFile:\u001b[0m           /opt/conda/lib/python3.7/site-packages/pyarrow/lib.cpython-37m-x86_64-linux-gnu.so\n",
       "\u001b[0;31mType:\u001b[0m           type\n",
       "\u001b[0;31mSubclasses:\u001b[0m     \n"
      ]
     },
     "metadata": {},
     "output_type": "display_data"
    }
   ],
   "source": [
    "pa.RecordBatch?"
   ]
  },
  {
   "cell_type": "code",
   "execution_count": 54,
   "metadata": {},
   "outputs": [],
   "source": [
    "batch1 = pa.RecordBatch.from_arrays(data, my_schema)\n",
    "\n",
    "with pa.OSFile('data/example_02.dat', 'wb') as f:\n",
    "    writer = pa.RecordBatchStreamWriter(f, batch1.schema)\n",
    "\n",
    "    for i in range(1024 * 1024):\n",
    "        writer.write_batch(batch1)"
   ]
  },
  {
   "cell_type": "code",
   "execution_count": 55,
   "metadata": {},
   "outputs": [
    {
     "name": "stdout",
     "output_type": "stream",
     "text": [
      "peak memory: 2309.64 MiB, increment: 0.00 MiB\n"
     ]
    }
   ],
   "source": [
    "%%memit\n",
    "mmap = pa.memory_map('data/example_02.dat')"
   ]
  },
  {
   "cell_type": "code",
   "execution_count": 37,
   "metadata": {},
   "outputs": [
    {
     "data": {
      "text/plain": [
       "b'\\x1c\\x01\\x00\\x00\\x10\\x00\\x00\\x00\\x00\\x00\\n\\x00\\x0c\\x00\\x06\\x00\\x05\\x00\\x08\\x00\\n\\x00\\x00\\x00\\x00\\x01\\x03\\x00\\x0c\\x00\\x00\\x00\\x08\\x00\\x08\\x00\\x00\\x00\\x04\\x00\\x08\\x00\\x00\\x00\\x04\\x00\\x00\\x00\\x04\\x00\\x00\\x00\\xb4\\x00\\x00\\x00t\\x00\\x00\\x00<\\x00\\x00\\x00\\x04\\x00\\x00\\x00l\\xff\\xff\\xff\\x00\\x00\\x01\\n \\x00\\x00\\x00\\x14\\x00\\x00\\x00\\x04\\x00\\x00\\x00\\x00\\x00\\x00\\x00\\x00\\x00\\x06\\x00\\x08\\x00\\x06\\x00'"
      ]
     },
     "execution_count": 37,
     "metadata": {},
     "output_type": "execute_result"
    }
   ],
   "source": [
    "mmap.seek(0)\n",
    "mmap.read(100)"
   ]
  },
  {
   "cell_type": "code",
   "execution_count": 51,
   "metadata": {},
   "outputs": [
    {
     "name": "stdout",
     "output_type": "stream",
     "text": [
      "peak memory: 2613.88 MiB, increment: 0.01 MiB\n"
     ]
    }
   ],
   "source": [
    "%%memit\n",
    "reader = pa.RecordBatchStreamReader('data/example_02.dat')"
   ]
  },
  {
   "cell_type": "code",
   "execution_count": 52,
   "metadata": {},
   "outputs": [],
   "source": [
    "df = reader.read_pandas()"
   ]
  },
  {
   "cell_type": "code",
   "execution_count": 53,
   "metadata": {},
   "outputs": [
    {
     "data": {
      "text/html": [
       "<div>\n",
       "<style scoped>\n",
       "    .dataframe tbody tr th:only-of-type {\n",
       "        vertical-align: middle;\n",
       "    }\n",
       "\n",
       "    .dataframe tbody tr th {\n",
       "        vertical-align: top;\n",
       "    }\n",
       "\n",
       "    .dataframe thead th {\n",
       "        text-align: right;\n",
       "    }\n",
       "</style>\n",
       "<table border=\"1\" class=\"dataframe\">\n",
       "  <thead>\n",
       "    <tr style=\"text-align: right;\">\n",
       "      <th></th>\n",
       "      <th>integer</th>\n",
       "      <th>text</th>\n",
       "      <th>binary</th>\n",
       "      <th>Time</th>\n",
       "    </tr>\n",
       "  </thead>\n",
       "  <tbody>\n",
       "    <tr>\n",
       "      <th>0</th>\n",
       "      <td>1</td>\n",
       "      <td>foo</td>\n",
       "      <td>b'\\x04\\x00\\x00\\x00\\x00\\x00\\x00\\x00\\x00\\x00'</td>\n",
       "      <td>1863-08-31 12:02:14.688112640</td>\n",
       "    </tr>\n",
       "    <tr>\n",
       "      <th>1</th>\n",
       "      <td>0</td>\n",
       "      <td>bar</td>\n",
       "      <td>None</td>\n",
       "      <td>1866-05-27 12:02:14.688112640</td>\n",
       "    </tr>\n",
       "    <tr>\n",
       "      <th>2</th>\n",
       "      <td>2</td>\n",
       "      <td>baz</td>\n",
       "      <td>b'\\x00\\x00\\x00\\x00\\x04\\x00\\x00\\x00\\x00\\x00'</td>\n",
       "      <td>1869-02-20 12:02:14.688112640</td>\n",
       "    </tr>\n",
       "    <tr>\n",
       "      <th>3</th>\n",
       "      <td>0</td>\n",
       "      <td>None</td>\n",
       "      <td>b'\\x00\\x00\\x00\\xe0A\\xec\\x02\\x8f\\x05\\x00'</td>\n",
       "      <td>1871-11-17 12:02:14.688112640</td>\n",
       "    </tr>\n",
       "    <tr>\n",
       "      <th>4</th>\n",
       "      <td>1</td>\n",
       "      <td>foo</td>\n",
       "      <td>b'\\x04\\x00\\x00\\x00\\x00\\x00\\x00\\x00\\x00\\x00'</td>\n",
       "      <td>1863-08-31 12:02:14.688112640</td>\n",
       "    </tr>\n",
       "  </tbody>\n",
       "</table>\n",
       "</div>"
      ],
      "text/plain": [
       "   integer  text                                       binary  \\\n",
       "0        1   foo  b'\\x04\\x00\\x00\\x00\\x00\\x00\\x00\\x00\\x00\\x00'   \n",
       "1        0   bar                                         None   \n",
       "2        2   baz  b'\\x00\\x00\\x00\\x00\\x04\\x00\\x00\\x00\\x00\\x00'   \n",
       "3        0  None     b'\\x00\\x00\\x00\\xe0A\\xec\\x02\\x8f\\x05\\x00'   \n",
       "4        1   foo  b'\\x04\\x00\\x00\\x00\\x00\\x00\\x00\\x00\\x00\\x00'   \n",
       "\n",
       "                           Time  \n",
       "0 1863-08-31 12:02:14.688112640  \n",
       "1 1866-05-27 12:02:14.688112640  \n",
       "2 1869-02-20 12:02:14.688112640  \n",
       "3 1871-11-17 12:02:14.688112640  \n",
       "4 1863-08-31 12:02:14.688112640  "
      ]
     },
     "execution_count": 53,
     "metadata": {},
     "output_type": "execute_result"
    }
   ],
   "source": [
    "df.head()"
   ]
  },
  {
   "cell_type": "code",
   "execution_count": null,
   "metadata": {},
   "outputs": [],
   "source": []
  }
 ],
 "metadata": {
  "kernelspec": {
   "display_name": "Python 3",
   "language": "python",
   "name": "python3"
  },
  "language_info": {
   "codemirror_mode": {
    "name": "ipython",
    "version": 3
   },
   "file_extension": ".py",
   "mimetype": "text/x-python",
   "name": "python",
   "nbconvert_exporter": "python",
   "pygments_lexer": "ipython3",
   "version": "3.7.3"
  }
 },
 "nbformat": 4,
 "nbformat_minor": 4
}
