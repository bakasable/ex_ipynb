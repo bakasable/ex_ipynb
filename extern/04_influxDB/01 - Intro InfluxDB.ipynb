{
 "cells": [
  {
   "cell_type": "markdown",
   "metadata": {},
   "source": [
    "<h1><img src=\"https://3yecy51kdipx3blyi37oute1-wpengine.netdna-ssl.com/wp-content/uploads/2016/11/influxdata_400x200.png\" style=\"height: 80px;\"/></h1>\n",
    "\n",
    "InfluxDB is a time series database designed to handle timestamped data, including DevOps monitoring, application metrics, IoT sensor data, and real-time analytics.\n",
    "\n",
    "## Key features\n",
    "\n",
    "- CLI/HTTP write and query API.\n",
    "- Expressive SQL-like query language\n",
    "- Schemas don't have to be defined up front and schema preferences may change over time. \n",
    "- Tags allow series to be indexed for fast and efficient queries.\n",
    "- Retention policies efficiently auto-expire stale data.\n",
    "- Plugins support for other data ingestion protocols such as Graphite, collectd, and OpenTSDB.\n",
    "- Continuous queries automatically compute aggregate data to make frequent queries more efficient.\n",
    "- InfluxDB isn’t fully CRUD\n",
    "- The open source edition of InfluxDB runs on a single node, high availability is only available in the InfluxDB Enterprise Edition.\n",
    "\n",
    "## Data structure\n",
    "- Data in InfluxDB is organized by “time series”\n",
    "- Time series have zero to many `points`, one for each discrete sample of the metric, consisting of:\n",
    "    - a `time` (a timestamp)\n",
    "    - a `measurement` (“Component temperature”, for example)\n",
    "    - at least one key-value `field` (the measured value itself, e.g. “value=0.64”, or “temperature=21.2”)\n",
    "    - zero to many key-value `tags` containing any metadata about the value\n",
    "    \n",
    "Conceptually a measurement is assimilable to a SQL table, where the primary index is always `time`. `tags` and `fields` are effectively columns in the table. `tags` are indexed, `fields` are not. \n",
    "\n",
    "<table>\n",
    "<thead>\n",
    "<tr>\n",
    "<th align=\"left\">Element</th>\n",
    "<th align=\"left\">Optional/Required</th>\n",
    "<th align=\"left\">Description</th>\n",
    "<th align=\"left\">Type<br>(See <a href=\"https://docs.influxdata.com/influxdb/v1.7/write_protocols/line_protocol_reference/#data-types\">data types</a> for more information.)</th>\n",
    "</tr>\n",
    "</thead>\n",
    "\n",
    "<tbody>\n",
    "<tr>\n",
    "<td align=\"left\"><a href=\"https://docs.influxdata.com/influxdb/v1.7/concepts/glossary/#measurement\">Measurement</a></td>\n",
    "<td align=\"left\">Required</td>\n",
    "<td align=\"left\">The measurement name. InfluxDB accepts one measurement per point.</td>\n",
    "<td align=\"left\">String</td>\n",
    "</tr>\n",
    "\n",
    "<tr>\n",
    "<td align=\"left\"><a href=\"https://docs.influxdata.com/influxdb/v1.7/concepts/glossary/#tag-set\">Tag set</a></td>\n",
    "<td align=\"left\">Optional</td>\n",
    "<td align=\"left\">All tag key-value pairs for the point.</td>\n",
    "<td align=\"left\"><a href=\"https://docs.influxdata.com/influxdb/v1.7/concepts/glossary/#tag-key\">Tag keys</a> and <a href=\"https://docs.influxdata.com/influxdb/v1.7/concepts/glossary/#tag-value\">tag values</a> are both strings.</td>\n",
    "</tr>\n",
    "\n",
    "<tr>\n",
    "<td align=\"left\"><a href=\"https://docs.influxdata.com/influxdb/v1.7/concepts/glossary/#field-set\">Field set</a></td>\n",
    "<td align=\"left\">Required. Points must have at least one field.</td>\n",
    "<td align=\"left\">All field key-value pairs for the point.</td>\n",
    "<td align=\"left\"><a href=\"https://docs.influxdata.com/influxdb/v1.7/concepts/glossary/#field-key\">Field keys</a> are strings. <a href=\"https://docs.influxdata.com/influxdb/v1.7/concepts/glossary/#field-value\">Field values</a> can be floats, integers, strings, or Booleans.</td>\n",
    "</tr>\n",
    "\n",
    "<tr>\n",
    "<td align=\"left\"><a href=\"https://docs.influxdata.com/influxdb/v1.7/concepts/glossary/#timestamp\">Timestamp</a></td>\n",
    "<td align=\"left\">Optional. InfluxDB uses the server’s local nanosecond timestamp in UTC if the timestamp is not included with the point.</td>\n",
    "<td align=\"left\">The timestamp for the data point. InfluxDB accepts one timestamp per point.</td>\n",
    "<td align=\"left\">Unix nanosecond timestamp. Specify alternative precisions with the <a href=\"https://docs.influxdata.com/influxdb/v1.7/tools/api/#write-http-endpoint\">InfluxDB API</a>.</td>\n",
    "</tr>\n",
    "</tbody>\n",
    "</table>\n",
    "\n",
    "\n",
    "## Data type\n",
    "\n",
    "<table>\n",
    "<thead>\n",
    "<tr>\n",
    "<th align=\"left\">Datatype</th>\n",
    "<th align=\"left\">Element(s)</th>\n",
    "<th align=\"left\">Description</th>\n",
    "</tr>\n",
    "</thead>\n",
    "\n",
    "<tbody>\n",
    "<tr>\n",
    "<td align=\"left\">Float</td>\n",
    "<td align=\"left\">Field values</td>\n",
    "<td align=\"left\">IEEE-754 64-bit floating-point numbers. This is the default numerical type. Examples: <code>1</code>, <code>1.0</code>, <code>1.e+78</code>, <code>1.E+78</code>.</td>\n",
    "</tr>\n",
    "\n",
    "<tr>\n",
    "<td align=\"left\">Integer</td>\n",
    "<td align=\"left\">Field values</td>\n",
    "<td align=\"left\">Signed 64-bit integers (-9223372036854775808 to 9223372036854775807). Specify an integer with a trailing <code>i</code> on the number. Example: <code>1i</code>.</td>\n",
    "</tr>\n",
    "\n",
    "<tr>\n",
    "<td align=\"left\">String</td>\n",
    "<td align=\"left\">Measurements, tag keys, tag values, field keys, field values</td>\n",
    "<td align=\"left\">Length limit 64KB.</td>\n",
    "</tr>\n",
    "\n",
    "<tr>\n",
    "<td align=\"left\">Boolean</td>\n",
    "<td align=\"left\">Field values</td>\n",
    "<td align=\"left\">Stores TRUE or FALSE values.<br><br>TRUE write syntax:<code>[t, T, true, True, TRUE]</code>.<br><br>FALSE write syntax:<code>[f, F, false, False, FALSE]</code></td>\n",
    "</tr>\n",
    "\n",
    "<tr>\n",
    "<td align=\"left\">Timestamp</td>\n",
    "<td align=\"left\">Timestamps</td>\n",
    "<td align=\"left\">Unix nanosecond timestamp. Specify alternative precisions with the <a href=\"/influxdb/v1.7/tools/api/#write-http-endpoint\">InfluxDB API</a>. The minimum valid timestamp is <code>-9223372036854775806</code> or <code>1677-09-21T00:12:43.145224194Z</code>. The maximum valid timestamp is <code>9223372036854775806</code> or <code>2262-04-11T23:47:16.854775806Z</code>.</td>\n",
    "</tr>\n",
    "</tbody>\n",
    "</table>"
   ]
  },
  {
   "cell_type": "markdown",
   "metadata": {},
   "source": [
    "Python module [documentation](https://influxdb-python.readthedocs.io/en/latest/index.html)"
   ]
  },
  {
   "cell_type": "code",
   "execution_count": 1,
   "metadata": {},
   "outputs": [],
   "source": [
    "feed_db_arraytime import (datetime, timedelta)\n",
    "from random import (choice, randint, random, uniform, lognormvariate)\n",
    "from influxdb import (InfluxDBClient, DataFrameClient)"
   ]
  },
  {
   "cell_type": "code",
   "execution_count": 2,
   "metadata": {},
   "outputs": [],
   "source": [
    "INFLUXDB_USER='telegraf'\n",
    "INFLUXDB_USER_PASSWORD='secretpassword'\n",
    "\n",
    "host='db.influxdb.app.com'\n",
    "port=8086\n",
    "\"\"\"Instantiate a connection to the InfluxDB.\"\"\"\n",
    "user = 'admin'\n",
    "password = 'supersecretpassword'\n",
    "dbname = 'example'\n",
    "\n",
    "dbuser = 'telegraf'\n",
    "dbuser_password = 'secretpassword'\n",
    "\n",
    "client = InfluxDBClient(host, port, user, password, dbname)"
   ]
  },
  {
   "cell_type": "code",
   "execution_count": 14,
   "metadata": {},
   "outputs": [],
   "source": [
    "client.drop_retention_policy('custom_policy', dbname)"
   ]
  },
  {
   "cell_type": "code",
   "execution_count": 64,
   "metadata": {},
   "outputs": [],
   "source": [
    "client.create_database(dbname)"
   ]
  },
  {
   "cell_type": "code",
   "execution_count": 65,
   "metadata": {},
   "outputs": [],
   "source": [
    "client.create_retention_policy('custom_policy', '30d', 3, default=True)"
   ]
  },
  {
   "cell_type": "code",
   "execution_count": 66,
   "metadata": {},
   "outputs": [],
   "source": [
    "client.switch_user(dbuser, dbuser_password)"
   ]
  },
  {
   "cell_type": "code",
   "execution_count": 67,
   "metadata": {},
   "outputs": [
    {
     "data": {
      "text/plain": [
       "'2019-08-19T21:03:25'"
      ]
     },
     "execution_count": 67,
     "metadata": {},
     "output_type": "execute_result"
    }
   ],
   "source": [
    "(datetime.now() - timedelta(seconds=10)).strftime(\"%Y-%m-%dT%H:%M:%S\")"
   ]
  },
  {
   "cell_type": "raw",
   "metadata": {},
   "source": [
    "def feed_db(n, i):\n",
    "    json_body = [\n",
    "        {\n",
    "            \"measurement\": \"starfleet\",\n",
    "            \"tags\": {\n",
    "                \"customer\": \"Spock\",\n",
    "                \"region\": \"Andoria\"\n",
    "            },\n",
    "            \"time\": (datetime.now() - timedelta(seconds=2*(n - i))).strftime(\"%Y-%m-%dT%H:%M:%S\"),\n",
    "            \"fields\": {\n",
    "                \"speed\": lognormvariate(10, 3),\n",
    "                \"consumption\": uniform(0, 300),\n",
    "                \"spacecraft\": f\"NX-8{randint(1, 100):04d}\",\n",
    "                \"pressure_µ\": 3 + random(),\n",
    "                \"status_a\": choice((True, False))\n",
    "            }\n",
    "        }\n",
    "    ]\n",
    "    client.write_points(json_body)"
   ]
  },
  {
   "cell_type": "code",
   "execution_count": 170,
   "metadata": {},
   "outputs": [],
   "source": [
    "def feed_db(n):\n",
    "    json_body = [\n",
    "        {\n",
    "            \"measurement\": \"starfleet_01\",\n",
    "            \"tags\": {\n",
    "                \"cmdt\": choice((\"Archer\", \"Kirk\", \"Kruge\")),\n",
    "                \"region\": choice((\"Andoria\", \"Deep Space Nine\", \"Earth\", \"Genesis\")),\n",
    "                \"spacecraft\": f\"NX-17{randint(1, 10):02d}\"\n",
    "            },\n",
    "            \"time\": (datetime.now() - timedelta(seconds=2*(n - i))).strftime(\"%Y-%m-%dT%H:%M:%S\"),\n",
    "            \"fields\": {\n",
    "                \"speed\": lognormvariate(10, 3),\n",
    "                \"consumption\": uniform(0, 300),\n",
    "                \"pressure_a\": 3 + random(),\n",
    "                \"status_b\": choice((True, False))\n",
    "            }\n",
    "        } for i in range(n)\n",
    "    ]\n",
    "    client.write_points(json_body, batch_size=100_000)"
   ]
  },
  {
   "cell_type": "code",
   "execution_count": 174,
   "metadata": {},
   "outputs": [],
   "source": [
    "def feed_db_array(n):\n",
    "    json_body = [\n",
    "        {\n",
    "            \"measurement\": \"starfleet_02\",\n",
    "            \"tags\": {\n",
    "                \"cmdt\": choice((\"Archer\", \"Kirk\", \"Kruge\")),\n",
    "                \"region\": choice((\"Andoria\", \"Deep Space Nine\", \"Earth\", \"Genesis\")),\n",
    "                \"spacecraft\": f\"NX-17{randint(1, 10):02d}\"\n",
    "            },\n",
    "            \"time\": (datetime.now() - timedelta(seconds=2*(n - i))).strftime(\"%Y-%m-%dT%H:%M:%S\"),\n",
    "            \"fields\": {\n",
    "                \"curve_b[0]\": 10 + random(),\n",
    "                \"curve_b[1]\": choice((15 + random(), 4 + random())),\n",
    "                \"curve_b[2]\": 20 + random(),\n",
    "            }\n",
    "        } for i in range(n)\n",
    "    ]\n",
    "    client.write_points(json_body, batch_size=100_000)\n",
    "    \n"
   ]
  },
  {
   "cell_type": "code",
   "execution_count": 172,
   "metadata": {},
   "outputs": [],
   "source": [
    "feed_db(1_000_000)"
   ]
  },
  {
   "cell_type": "code",
   "execution_count": 175,
   "metadata": {},
   "outputs": [],
   "source": [
    "feed_db_array(1_000_000)"
   ]
  },
  {
   "cell_type": "raw",
   "metadata": {},
   "source": [
    "client.delete_series(database=\"example\", measurement=\"starfleet_01\")"
   ]
  },
  {
   "cell_type": "code",
   "execution_count": 176,
   "metadata": {},
   "outputs": [
    {
     "data": {
      "text/plain": [
       "ResultSet({'('starfleet_01', None)': [{'time': '1970-01-01T00:00:00Z', 'count_consumption': 1000000, 'count_pressure_a': 1000000, 'count_speed': 1000000, 'count_status_b': 1000000}]})"
      ]
     },
     "execution_count": 176,
     "metadata": {},
     "output_type": "execute_result"
    }
   ],
   "source": [
    "client.query(query='select count(*) from starfleet_01')"
   ]
  },
  {
   "cell_type": "code",
   "execution_count": 177,
   "metadata": {},
   "outputs": [],
   "source": [
    "from IPython.core.magic import (register_line_cell_magic)\n",
    "\n",
    "@register_line_cell_magic\n",
    "def influxql(line, cell=None):\n",
    "    \"Magic that works both as %lcmagic and as %%lcmagic\"\n",
    "    if cell is None:\n",
    "        sqlstr = line\n",
    "    else:\n",
    "        sqlstr = \";\".join((op.strip(\";\") for op in cell.strip(\"\\n\").split(\"\\n\"))) + \";\"\n",
    "    return client.query(query=sqlstr)"
   ]
  },
  {
   "cell_type": "code",
   "execution_count": 183,
   "metadata": {},
   "outputs": [
    {
     "ename": "InfluxDBClientError",
     "evalue": "400: {\"error\":\"error parsing query: found GROUP_BY, expected ; at line 1, char 37\"}\n",
     "output_type": "error",
     "traceback": [
      "\u001b[0;31m---------------------------------------------------------------------------\u001b[0m",
      "\u001b[0;31mInfluxDBClientError\u001b[0m                       Traceback (most recent call last)",
      "\u001b[0;32m<ipython-input-183-1f4161f08644>\u001b[0m in \u001b[0;36m<module>\u001b[0;34m\u001b[0m\n\u001b[0;32m----> 1\u001b[0;31m \u001b[0mget_ipython\u001b[0m\u001b[0;34m(\u001b[0m\u001b[0;34m)\u001b[0m\u001b[0;34m.\u001b[0m\u001b[0mrun_line_magic\u001b[0m\u001b[0;34m(\u001b[0m\u001b[0;34m'influxql'\u001b[0m\u001b[0;34m,\u001b[0m \u001b[0;34m'SELECT COUNT(*) FROM \"starfleet_02\" GROUP_BY \"region\"'\u001b[0m\u001b[0;34m)\u001b[0m\u001b[0;34m\u001b[0m\u001b[0;34m\u001b[0m\u001b[0m\n\u001b[0m",
      "\u001b[0;32m/opt/conda/lib/python3.7/site-packages/IPython/core/interactiveshell.py\u001b[0m in \u001b[0;36mrun_line_magic\u001b[0;34m(self, magic_name, line, _stack_depth)\u001b[0m\n\u001b[1;32m   2312\u001b[0m                 \u001b[0mkwargs\u001b[0m\u001b[0;34m[\u001b[0m\u001b[0;34m'local_ns'\u001b[0m\u001b[0;34m]\u001b[0m \u001b[0;34m=\u001b[0m \u001b[0msys\u001b[0m\u001b[0;34m.\u001b[0m\u001b[0m_getframe\u001b[0m\u001b[0;34m(\u001b[0m\u001b[0mstack_depth\u001b[0m\u001b[0;34m)\u001b[0m\u001b[0;34m.\u001b[0m\u001b[0mf_locals\u001b[0m\u001b[0;34m\u001b[0m\u001b[0;34m\u001b[0m\u001b[0m\n\u001b[1;32m   2313\u001b[0m             \u001b[0;32mwith\u001b[0m \u001b[0mself\u001b[0m\u001b[0;34m.\u001b[0m\u001b[0mbuiltin_trap\u001b[0m\u001b[0;34m:\u001b[0m\u001b[0;34m\u001b[0m\u001b[0;34m\u001b[0m\u001b[0m\n\u001b[0;32m-> 2314\u001b[0;31m                 \u001b[0mresult\u001b[0m \u001b[0;34m=\u001b[0m \u001b[0mfn\u001b[0m\u001b[0;34m(\u001b[0m\u001b[0;34m*\u001b[0m\u001b[0margs\u001b[0m\u001b[0;34m,\u001b[0m \u001b[0;34m**\u001b[0m\u001b[0mkwargs\u001b[0m\u001b[0;34m)\u001b[0m\u001b[0;34m\u001b[0m\u001b[0;34m\u001b[0m\u001b[0m\n\u001b[0m\u001b[1;32m   2315\u001b[0m             \u001b[0;32mreturn\u001b[0m \u001b[0mresult\u001b[0m\u001b[0;34m\u001b[0m\u001b[0;34m\u001b[0m\u001b[0m\n\u001b[1;32m   2316\u001b[0m \u001b[0;34m\u001b[0m\u001b[0m\n",
      "\u001b[0;32m<ipython-input-177-c8f054ef2d1c>\u001b[0m in \u001b[0;36minfluxql\u001b[0;34m(line, cell)\u001b[0m\n\u001b[1;32m      8\u001b[0m     \u001b[0;32melse\u001b[0m\u001b[0;34m:\u001b[0m\u001b[0;34m\u001b[0m\u001b[0;34m\u001b[0m\u001b[0m\n\u001b[1;32m      9\u001b[0m         \u001b[0msqlstr\u001b[0m \u001b[0;34m=\u001b[0m \u001b[0;34m\";\"\u001b[0m\u001b[0;34m.\u001b[0m\u001b[0mjoin\u001b[0m\u001b[0;34m(\u001b[0m\u001b[0;34m(\u001b[0m\u001b[0mop\u001b[0m\u001b[0;34m.\u001b[0m\u001b[0mstrip\u001b[0m\u001b[0;34m(\u001b[0m\u001b[0;34m\";\"\u001b[0m\u001b[0;34m)\u001b[0m \u001b[0;32mfor\u001b[0m \u001b[0mop\u001b[0m \u001b[0;32min\u001b[0m \u001b[0mcell\u001b[0m\u001b[0;34m.\u001b[0m\u001b[0mstrip\u001b[0m\u001b[0;34m(\u001b[0m\u001b[0;34m\"\\n\"\u001b[0m\u001b[0;34m)\u001b[0m\u001b[0;34m.\u001b[0m\u001b[0msplit\u001b[0m\u001b[0;34m(\u001b[0m\u001b[0;34m\"\\n\"\u001b[0m\u001b[0;34m)\u001b[0m\u001b[0;34m)\u001b[0m\u001b[0;34m)\u001b[0m \u001b[0;34m+\u001b[0m \u001b[0;34m\";\"\u001b[0m\u001b[0;34m\u001b[0m\u001b[0;34m\u001b[0m\u001b[0m\n\u001b[0;32m---> 10\u001b[0;31m     \u001b[0;32mreturn\u001b[0m \u001b[0mclient\u001b[0m\u001b[0;34m.\u001b[0m\u001b[0mquery\u001b[0m\u001b[0;34m(\u001b[0m\u001b[0mquery\u001b[0m\u001b[0;34m=\u001b[0m\u001b[0msqlstr\u001b[0m\u001b[0;34m)\u001b[0m\u001b[0;34m\u001b[0m\u001b[0;34m\u001b[0m\u001b[0m\n\u001b[0m",
      "\u001b[0;32m/opt/conda/lib/python3.7/site-packages/influxdb/client.py\u001b[0m in \u001b[0;36mquery\u001b[0;34m(self, query, params, epoch, expected_response_code, database, raise_errors, chunked, chunk_size, method)\u001b[0m\n\u001b[1;32m    414\u001b[0m             \u001b[0mparams\u001b[0m\u001b[0;34m=\u001b[0m\u001b[0mparams\u001b[0m\u001b[0;34m,\u001b[0m\u001b[0;34m\u001b[0m\u001b[0;34m\u001b[0m\u001b[0m\n\u001b[1;32m    415\u001b[0m             \u001b[0mdata\u001b[0m\u001b[0;34m=\u001b[0m\u001b[0;32mNone\u001b[0m\u001b[0;34m,\u001b[0m\u001b[0;34m\u001b[0m\u001b[0;34m\u001b[0m\u001b[0m\n\u001b[0;32m--> 416\u001b[0;31m             \u001b[0mexpected_response_code\u001b[0m\u001b[0;34m=\u001b[0m\u001b[0mexpected_response_code\u001b[0m\u001b[0;34m\u001b[0m\u001b[0;34m\u001b[0m\u001b[0m\n\u001b[0m\u001b[1;32m    417\u001b[0m         )\n\u001b[1;32m    418\u001b[0m \u001b[0;34m\u001b[0m\u001b[0m\n",
      "\u001b[0;32m/opt/conda/lib/python3.7/site-packages/influxdb/client.py\u001b[0m in \u001b[0;36mrequest\u001b[0;34m(self, url, method, params, data, expected_response_code, headers)\u001b[0m\n\u001b[1;32m    284\u001b[0m             \u001b[0;32mreturn\u001b[0m \u001b[0mresponse\u001b[0m\u001b[0;34m\u001b[0m\u001b[0;34m\u001b[0m\u001b[0m\n\u001b[1;32m    285\u001b[0m         \u001b[0;32melse\u001b[0m\u001b[0;34m:\u001b[0m\u001b[0;34m\u001b[0m\u001b[0;34m\u001b[0m\u001b[0m\n\u001b[0;32m--> 286\u001b[0;31m             \u001b[0;32mraise\u001b[0m \u001b[0mInfluxDBClientError\u001b[0m\u001b[0;34m(\u001b[0m\u001b[0mresponse\u001b[0m\u001b[0;34m.\u001b[0m\u001b[0mcontent\u001b[0m\u001b[0;34m,\u001b[0m \u001b[0mresponse\u001b[0m\u001b[0;34m.\u001b[0m\u001b[0mstatus_code\u001b[0m\u001b[0;34m)\u001b[0m\u001b[0;34m\u001b[0m\u001b[0;34m\u001b[0m\u001b[0m\n\u001b[0m\u001b[1;32m    287\u001b[0m \u001b[0;34m\u001b[0m\u001b[0m\n\u001b[1;32m    288\u001b[0m     def write(self, data, params=None, expected_response_code=204,\n",
      "\u001b[0;31mInfluxDBClientError\u001b[0m: 400: {\"error\":\"error parsing query: found GROUP_BY, expected ; at line 1, char 37\"}\n"
     ]
    }
   ],
   "source": [
    "%influxql SELECT COUNT(*) FROM \"starfleet_02\" GROUP_BY \"region\""
   ]
  },
  {
   "cell_type": "code",
   "execution_count": 126,
   "metadata": {},
   "outputs": [
    {
     "data": {
      "text/plain": [
       "ResultSet({'('starfleet', None)': [{'time': '1970-01-01T00:00:00Z', 'count': 100}]})"
      ]
     },
     "execution_count": 126,
     "metadata": {},
     "output_type": "execute_result"
    }
   ],
   "source": [
    "%influxql SELECT COUNT(DISTINCT(\"spacecraft\")) FROM \"starfleet\""
   ]
  },
  {
   "cell_type": "code",
   "execution_count": 128,
   "metadata": {},
   "outputs": [
    {
     "data": {
      "text/plain": [
       "ResultSet({})"
      ]
     },
     "execution_count": 128,
     "metadata": {},
     "output_type": "execute_result"
    }
   ],
   "source": [
    "%influxql SELECT MODE(\"region\") FROM \"starfleet\""
   ]
  },
  {
   "cell_type": "code",
   "execution_count": 129,
   "metadata": {},
   "outputs": [
    {
     "data": {
      "text/plain": [
       "ResultSet({'('starfleet', None)': [{'time': '1970-01-01T00:00:00Z', 'spread': 0.9999997563568188}]})"
      ]
     },
     "execution_count": 129,
     "metadata": {},
     "output_type": "execute_result"
    }
   ],
   "source": [
    "%influxql SELECT SPREAD(\"pressure_a\") FROM \"starfleet\""
   ]
  },
  {
   "cell_type": "code",
   "execution_count": 145,
   "metadata": {},
   "outputs": [],
   "source": [
    "res = %influxql SELECT * FROM \"starfleet\" WHERE \"pressure_a\" > 3.5"
   ]
  },
  {
   "cell_type": "code",
   "execution_count": 146,
   "metadata": {},
   "outputs": [],
   "source": [
    "points = res.get_points(tags={\"region\": \"Andoria\"})"
   ]
  },
  {
   "cell_type": "code",
   "execution_count": 147,
   "metadata": {},
   "outputs": [],
   "source": [
    "from pandas import DataFrame"
   ]
  },
  {
   "cell_type": "code",
   "execution_count": 148,
   "metadata": {},
   "outputs": [],
   "source": [
    "df = DataFrame(points)"
   ]
  },
  {
   "cell_type": "code",
   "execution_count": 149,
   "metadata": {},
   "outputs": [
    {
     "data": {
      "text/html": [
       "<div>\n",
       "<style scoped>\n",
       "    .dataframe tbody tr th:only-of-type {\n",
       "        vertical-align: middle;\n",
       "    }\n",
       "\n",
       "    .dataframe tbody tr th {\n",
       "        vertical-align: top;\n",
       "    }\n",
       "\n",
       "    .dataframe thead th {\n",
       "        text-align: right;\n",
       "    }\n",
       "</style>\n",
       "<table border=\"1\" class=\"dataframe\">\n",
       "  <thead>\n",
       "    <tr style=\"text-align: right;\">\n",
       "      <th></th>\n",
       "      <th>consumption</th>\n",
       "      <th>curve_b[0]</th>\n",
       "      <th>curve_b[1]</th>\n",
       "      <th>curve_b[2]</th>\n",
       "      <th>pressure_a</th>\n",
       "      <th>region</th>\n",
       "      <th>spacecraft</th>\n",
       "      <th>speed</th>\n",
       "      <th>status_b</th>\n",
       "      <th>time</th>\n",
       "      <th>who</th>\n",
       "    </tr>\n",
       "  </thead>\n",
       "  <tbody>\n",
       "    <tr>\n",
       "      <th>0</th>\n",
       "      <td>37.925259</td>\n",
       "      <td>1</td>\n",
       "      <td>2</td>\n",
       "      <td>3</td>\n",
       "      <td>3.850280</td>\n",
       "      <td>Andoria</td>\n",
       "      <td>NX-80020</td>\n",
       "      <td>9.359294e+00</td>\n",
       "      <td>False</td>\n",
       "      <td>2019-07-27T18:08:22Z</td>\n",
       "      <td>James T. Kirk</td>\n",
       "    </tr>\n",
       "    <tr>\n",
       "      <th>1</th>\n",
       "      <td>93.973752</td>\n",
       "      <td>1</td>\n",
       "      <td>2</td>\n",
       "      <td>3</td>\n",
       "      <td>3.748505</td>\n",
       "      <td>Andoria</td>\n",
       "      <td>NX-80062</td>\n",
       "      <td>1.703883e+04</td>\n",
       "      <td>True</td>\n",
       "      <td>2019-07-27T18:08:40Z</td>\n",
       "      <td>Spock</td>\n",
       "    </tr>\n",
       "    <tr>\n",
       "      <th>2</th>\n",
       "      <td>120.489248</td>\n",
       "      <td>1</td>\n",
       "      <td>2</td>\n",
       "      <td>3</td>\n",
       "      <td>3.605678</td>\n",
       "      <td>Andoria</td>\n",
       "      <td>NX-80029</td>\n",
       "      <td>4.525491e+03</td>\n",
       "      <td>True</td>\n",
       "      <td>2019-07-27T18:09:42Z</td>\n",
       "      <td>James T. Kirk</td>\n",
       "    </tr>\n",
       "    <tr>\n",
       "      <th>3</th>\n",
       "      <td>211.196781</td>\n",
       "      <td>1</td>\n",
       "      <td>2</td>\n",
       "      <td>3</td>\n",
       "      <td>3.641109</td>\n",
       "      <td>Andoria</td>\n",
       "      <td>NX-80001</td>\n",
       "      <td>5.874285e+02</td>\n",
       "      <td>True</td>\n",
       "      <td>2019-07-27T18:09:44Z</td>\n",
       "      <td>James T. Kirk</td>\n",
       "    </tr>\n",
       "    <tr>\n",
       "      <th>4</th>\n",
       "      <td>245.707595</td>\n",
       "      <td>1</td>\n",
       "      <td>2</td>\n",
       "      <td>3</td>\n",
       "      <td>3.645298</td>\n",
       "      <td>Andoria</td>\n",
       "      <td>NX-80077</td>\n",
       "      <td>1.445701e+06</td>\n",
       "      <td>True</td>\n",
       "      <td>2019-07-27T18:10:10Z</td>\n",
       "      <td>James T. Kirk</td>\n",
       "    </tr>\n",
       "  </tbody>\n",
       "</table>\n",
       "</div>"
      ],
      "text/plain": [
       "   consumption  curve_b[0]  curve_b[1]  curve_b[2]  pressure_a   region  \\\n",
       "0    37.925259           1           2           3    3.850280  Andoria   \n",
       "1    93.973752           1           2           3    3.748505  Andoria   \n",
       "2   120.489248           1           2           3    3.605678  Andoria   \n",
       "3   211.196781           1           2           3    3.641109  Andoria   \n",
       "4   245.707595           1           2           3    3.645298  Andoria   \n",
       "\n",
       "  spacecraft         speed  status_b                  time            who  \n",
       "0   NX-80020  9.359294e+00     False  2019-07-27T18:08:22Z  James T. Kirk  \n",
       "1   NX-80062  1.703883e+04      True  2019-07-27T18:08:40Z          Spock  \n",
       "2   NX-80029  4.525491e+03      True  2019-07-27T18:09:42Z  James T. Kirk  \n",
       "3   NX-80001  5.874285e+02      True  2019-07-27T18:09:44Z  James T. Kirk  \n",
       "4   NX-80077  1.445701e+06      True  2019-07-27T18:10:10Z  James T. Kirk  "
      ]
     },
     "execution_count": 149,
     "metadata": {},
     "output_type": "execute_result"
    }
   ],
   "source": [
    "df.head()"
   ]
  },
  {
   "cell_type": "code",
   "execution_count": 95,
   "metadata": {},
   "outputs": [
    {
     "data": {
      "text/plain": [
       "ResultSet({'('results', None)': [{'qid': 812, 'query': 'SHOW QUERIES', 'database': 'example', 'duration': '160µs', 'status': 'running'}]})"
      ]
     },
     "execution_count": 95,
     "metadata": {},
     "output_type": "execute_result"
    }
   ],
   "source": [
    "%influxql SHOW QUERIES;"
   ]
  },
  {
   "cell_type": "code",
   "execution_count": 227,
   "metadata": {},
   "outputs": [
    {
     "data": {
      "text/plain": [
       "ResultSet({})"
      ]
     },
     "execution_count": 227,
     "metadata": {},
     "output_type": "execute_result"
    }
   ],
   "source": [
    "client.query(query='select speed from starfleet WHERE customer=\"Spock\" LIMIT 10')"
   ]
  },
  {
   "cell_type": "code",
   "execution_count": 106,
   "metadata": {},
   "outputs": [
    {
     "data": {
      "text/plain": [
       "ResultSet({'('results', None)': [{'key': 'starfleet,region=Andoria,who=James\\\\ T.\\\\ Kirk'}, {'key': 'starfleet,region=Andoria,who=Spock'}, {'key': 'starfleet,region=Deep\\\\ Space\\\\ Nine,who=James\\\\ T.\\\\ Kirk'}, {'key': 'starfleet,region=Deep\\\\ Space\\\\ Nine,who=Spock'}, {'key': 'starfleet,region=Earth,who=James\\\\ T.\\\\ Kirk'}, {'key': 'starfleet,region=Earth,who=Spock'}]})"
      ]
     },
     "execution_count": 106,
     "metadata": {},
     "output_type": "execute_result"
    }
   ],
   "source": [
    "client.query('SHOW SERIES')"
   ]
  },
  {
   "cell_type": "code",
   "execution_count": 229,
   "metadata": {},
   "outputs": [
    {
     "data": {
      "text/plain": [
       "ResultSet({'('starfleet', None)': [{'time': '2019-08-18T19:22:42Z', 'speed': 306.6993676747536}]})"
      ]
     },
     "execution_count": 229,
     "metadata": {},
     "output_type": "execute_result"
    }
   ],
   "source": [
    "result = client.query(query='select speed from starfleet WHERE time > now() - 1d LIMIT 10;')\n",
    "result"
   ]
  },
  {
   "cell_type": "code",
   "execution_count": 213,
   "metadata": {},
   "outputs": [],
   "source": [
    "dfClient = DataFrameClient(host, port, user, password, dbname)"
   ]
  },
  {
   "cell_type": "code",
   "execution_count": 232,
   "metadata": {},
   "outputs": [
    {
     "data": {
      "text/plain": [
       "defaultdict(list,\n",
       "            {'starfleet':                                      count_consumption  count_pressure_µ  \\\n",
       "             2019-08-17 19:30:12.103923669+00:00              43005             43005   \n",
       "             \n",
       "                                                  count_spacecraft  count_speed  \\\n",
       "             2019-08-17 19:30:12.103923669+00:00             43005        43005   \n",
       "             \n",
       "                                                  count_status_a  \n",
       "             2019-08-17 19:30:12.103923669+00:00           43005  })"
      ]
     },
     "execution_count": 232,
     "metadata": {},
     "output_type": "execute_result"
    }
   ],
   "source": [
    "dfClient.query(query='select * from starfleet WHERE time > now() - 1d LIMIT 10;')"
   ]
  },
  {
   "cell_type": "code",
   "execution_count": 207,
   "metadata": {},
   "outputs": [],
   "source": [
    "result = client.query(query='SELECT * FROM \"h2o_feet\",\"h2o_pH\"')"
   ]
  },
  {
   "cell_type": "code",
   "execution_count": 208,
   "metadata": {},
   "outputs": [
    {
     "data": {
      "text/plain": [
       "ResultSet({})"
      ]
     },
     "execution_count": 208,
     "metadata": {},
     "output_type": "execute_result"
    }
   ],
   "source": [
    "result"
   ]
  },
  {
   "cell_type": "code",
   "execution_count": 206,
   "metadata": {},
   "outputs": [
    {
     "ename": "InfluxDBClientError",
     "evalue": "400: {\"error\":\"error parsing query: found customer, expected identifier at line 1, char 27\"}\n",
     "output_type": "error",
     "traceback": [
      "\u001b[0;31m---------------------------------------------------------------------------\u001b[0m",
      "\u001b[0;31mInfluxDBClientError\u001b[0m                       Traceback (most recent call last)",
      "\u001b[0;32m<ipython-input-206-15e637e81f96>\u001b[0m in \u001b[0;36m<module>\u001b[0;34m\u001b[0m\n\u001b[0;32m----> 1\u001b[0;31m \u001b[0mclient\u001b[0m\u001b[0;34m.\u001b[0m\u001b[0mquery\u001b[0m\u001b[0;34m(\u001b[0m\u001b[0;34m\"SHOW TAG VALUES WITH KEY = 'customer'\"\u001b[0m\u001b[0;34m)\u001b[0m\u001b[0;34m\u001b[0m\u001b[0;34m\u001b[0m\u001b[0m\n\u001b[0m",
      "\u001b[0;32m/opt/conda/lib/python3.7/site-packages/influxdb/client.py\u001b[0m in \u001b[0;36mquery\u001b[0;34m(self, query, params, epoch, expected_response_code, database, raise_errors, chunked, chunk_size, method)\u001b[0m\n\u001b[1;32m    414\u001b[0m             \u001b[0mparams\u001b[0m\u001b[0;34m=\u001b[0m\u001b[0mparams\u001b[0m\u001b[0;34m,\u001b[0m\u001b[0;34m\u001b[0m\u001b[0;34m\u001b[0m\u001b[0m\n\u001b[1;32m    415\u001b[0m             \u001b[0mdata\u001b[0m\u001b[0;34m=\u001b[0m\u001b[0;32mNone\u001b[0m\u001b[0;34m,\u001b[0m\u001b[0;34m\u001b[0m\u001b[0;34m\u001b[0m\u001b[0m\n\u001b[0;32m--> 416\u001b[0;31m             \u001b[0mexpected_response_code\u001b[0m\u001b[0;34m=\u001b[0m\u001b[0mexpected_response_code\u001b[0m\u001b[0;34m\u001b[0m\u001b[0;34m\u001b[0m\u001b[0m\n\u001b[0m\u001b[1;32m    417\u001b[0m         )\n\u001b[1;32m    418\u001b[0m \u001b[0;34m\u001b[0m\u001b[0m\n",
      "\u001b[0;32m/opt/conda/lib/python3.7/site-packages/influxdb/client.py\u001b[0m in \u001b[0;36mrequest\u001b[0;34m(self, url, method, params, data, expected_response_code, headers)\u001b[0m\n\u001b[1;32m    284\u001b[0m             \u001b[0;32mreturn\u001b[0m \u001b[0mresponse\u001b[0m\u001b[0;34m\u001b[0m\u001b[0;34m\u001b[0m\u001b[0m\n\u001b[1;32m    285\u001b[0m         \u001b[0;32melse\u001b[0m\u001b[0;34m:\u001b[0m\u001b[0;34m\u001b[0m\u001b[0;34m\u001b[0m\u001b[0m\n\u001b[0;32m--> 286\u001b[0;31m             \u001b[0;32mraise\u001b[0m \u001b[0mInfluxDBClientError\u001b[0m\u001b[0;34m(\u001b[0m\u001b[0mresponse\u001b[0m\u001b[0;34m.\u001b[0m\u001b[0mcontent\u001b[0m\u001b[0;34m,\u001b[0m \u001b[0mresponse\u001b[0m\u001b[0;34m.\u001b[0m\u001b[0mstatus_code\u001b[0m\u001b[0;34m)\u001b[0m\u001b[0;34m\u001b[0m\u001b[0;34m\u001b[0m\u001b[0m\n\u001b[0m\u001b[1;32m    287\u001b[0m \u001b[0;34m\u001b[0m\u001b[0m\n\u001b[1;32m    288\u001b[0m     def write(self, data, params=None, expected_response_code=204,\n",
      "\u001b[0;31mInfluxDBClientError\u001b[0m: 400: {\"error\":\"error parsing query: found customer, expected identifier at line 1, char 27\"}\n"
     ]
    }
   ],
   "source": [
    "client.query(\"SHOW TAG VALUES WITH KEY = 'customer'\")"
   ]
  },
  {
   "cell_type": "code",
   "execution_count": 201,
   "metadata": {},
   "outputs": [
    {
     "data": {
      "text/plain": [
       "ResultSet({'('starfleet', None)': [{'tagKey': 'customer'}, {'tagKey': 'region'}]})"
      ]
     },
     "execution_count": 201,
     "metadata": {},
     "output_type": "execute_result"
    }
   ],
   "source": [
    "client.query(\"SHOW TAG KEYS\")"
   ]
  },
  {
   "cell_type": "code",
   "execution_count": 199,
   "metadata": {},
   "outputs": [
    {
     "data": {
      "text/plain": [
       "ResultSet({'('starfleet', None)': [{'time': '2019-08-17T14:36:18Z', 'consumption': 126.73624498383099, 'customer': 'Spock', 'pressure_µ': 3.0421040377041475, 'region': 'Vulcan', 'spacecraft': 'NX-80076', 'speed': 2375.1424165046697, 'status_a': False}]})"
      ]
     },
     "execution_count": 199,
     "metadata": {},
     "output_type": "execute_result"
    }
   ],
   "source": [
    "client.query(\"SELECT * from starfleet LIMIT 1\")"
   ]
  }
 ],
 "metadata": {
  "kernelspec": {
   "display_name": "Python 3",
   "language": "python",
   "name": "python3"
  },
  "language_info": {
   "codemirror_mode": {
    "name": "ipython",
    "version": 3
   },
   "file_extension": ".py",
   "mimetype": "text/x-python",
   "name": "python",
   "nbconvert_exporter": "python",
   "pygments_lexer": "ipython3",
   "version": "3.7.3"
  }
 },
 "nbformat": 4,
 "nbformat_minor": 4
}
