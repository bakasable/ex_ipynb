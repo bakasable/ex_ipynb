{
 "cells": [
  {
   "cell_type": "markdown",
   "metadata": {},
   "source": [
    "## Usage\n",
    "\n",
    "InfluxDB is:\n",
    "- a time series database designed to handle high write and query loads.\n",
    "- meant to be used as a backing store for any use case involving large amounts of timestamped data, including DevOps monitoring, application metrics, IoT sensor data, and real-time analytics.\n",
    "\n",
    "## Key features\n",
    "\n",
    "- CLI/HTTP write and query API.\n",
    "- Expressive SQL-like query language\n",
    "- Schemas don't have to be defined up front and schema preferences may change over time. \n",
    "- Tags allow series to be indexed for fast and efficient queries.\n",
    "- Retention policies efficiently auto-expire stale data.\n",
    "- Plugins support for other data ingestion protocols such as Graphite, collectd, and OpenTSDB.\n",
    "- Continuous queries automatically compute aggregate data to make frequent queries more efficient.\n",
    "- The open source edition of InfluxDB runs on a single node, high availability is only available in the InfluxDB Enterprise Edition.\n",
    "\n",
    "## Data structure\n",
    "- Data in InfluxDB is organized by “time series”\n",
    "- Time series have zero to many `points`, one for each discrete sample of the metric, consisting of:\n",
    "    - a `time` (a timestamp)\n",
    "    - a `measurement` (“Component temperature”, for example)\n",
    "    - at least one key-value `field` (the measured value itself, e.g. “value=0.64”, or “temperature=21.2”)\n",
    "    - zero to many key-value `tags` containing any metadata about the value\n",
    "    \n",
    "Conceptually a measurement is assimilable to a SQL table, where the primary index is always `time`. `tags` and `fields` are effectively columns in the table. `tags` are indexed, `fields` are not. \n",
    "\n",
    "<table>\n",
    "<thead>\n",
    "<tr>\n",
    "<th align=\"left\">Element</th>\n",
    "<th align=\"left\">Optional/Required</th>\n",
    "<th align=\"left\">Description</th>\n",
    "<th align=\"left\">Type<br>(See <a href=\"https://docs.influxdata.com/influxdb/v1.7/write_protocols/line_protocol_reference/#data-types\">data types</a> for more information.)</th>\n",
    "</tr>\n",
    "</thead>\n",
    "\n",
    "<tbody>\n",
    "<tr>\n",
    "<td align=\"left\"><a href=\"https://docs.influxdata.com/influxdb/v1.7/concepts/glossary/#measurement\">Measurement</a></td>\n",
    "<td align=\"left\">Required</td>\n",
    "<td align=\"left\">The measurement name. InfluxDB accepts one measurement per point.</td>\n",
    "<td align=\"left\">String</td>\n",
    "</tr>\n",
    "\n",
    "<tr>\n",
    "<td align=\"left\"><a href=\"https://docs.influxdata.com/influxdb/v1.7/concepts/glossary/#tag-set\">Tag set</a></td>\n",
    "<td align=\"left\">Optional</td>\n",
    "<td align=\"left\">All tag key-value pairs for the point.</td>\n",
    "<td align=\"left\"><a href=\"https://docs.influxdata.com/influxdb/v1.7/concepts/glossary/#tag-key\">Tag keys</a> and <a href=\"https://docs.influxdata.com/influxdb/v1.7/concepts/glossary/#tag-value\">tag values</a> are both strings.</td>\n",
    "</tr>\n",
    "\n",
    "<tr>\n",
    "<td align=\"left\"><a href=\"https://docs.influxdata.com/influxdb/v1.7/concepts/glossary/#field-set\">Field set</a></td>\n",
    "<td align=\"left\">Required. Points must have at least one field.</td>\n",
    "<td align=\"left\">All field key-value pairs for the point.</td>\n",
    "<td align=\"left\"><a href=\"https://docs.influxdata.com/influxdb/v1.7/concepts/glossary/#field-key\">Field keys</a> are strings. <a href=\"https://docs.influxdata.com/influxdb/v1.7/concepts/glossary/#field-value\">Field values</a> can be floats, integers, strings, or Booleans.</td>\n",
    "</tr>\n",
    "\n",
    "<tr>\n",
    "<td align=\"left\"><a href=\"https://docs.influxdata.com/influxdb/v1.7/concepts/glossary/#timestamp\">Timestamp</a></td>\n",
    "<td align=\"left\">Optional. InfluxDB uses the server’s local nanosecond timestamp in UTC if the timestamp is not included with the point.</td>\n",
    "<td align=\"left\">The timestamp for the data point. InfluxDB accepts one timestamp per point.</td>\n",
    "<td align=\"left\">Unix nanosecond timestamp. Specify alternative precisions with the <a href=\"https://docs.influxdata.com/influxdb/v1.7/tools/api/#write-http-endpoint\">InfluxDB API</a>.</td>\n",
    "</tr>\n",
    "</tbody>\n",
    "</table>\n",
    "\n",
    "\n",
    "## Data type\n",
    "\n",
    "<table>\n",
    "<thead>\n",
    "<tr>\n",
    "<th align=\"left\">Datatype</th>\n",
    "<th align=\"left\">Element(s)</th>\n",
    "<th align=\"left\">Description</th>\n",
    "</tr>\n",
    "</thead>\n",
    "\n",
    "<tbody>\n",
    "<tr>\n",
    "<td align=\"left\">Float</td>\n",
    "<td align=\"left\">Field values</td>\n",
    "<td align=\"left\">IEEE-754 64-bit floating-point numbers. This is the default numerical type. Examples: <code>1</code>, <code>1.0</code>, <code>1.e+78</code>, <code>1.E+78</code>.</td>\n",
    "</tr>\n",
    "\n",
    "<tr>\n",
    "<td align=\"left\">Integer</td>\n",
    "<td align=\"left\">Field values</td>\n",
    "<td align=\"left\">Signed 64-bit integers (-9223372036854775808 to 9223372036854775807). Specify an integer with a trailing <code>i</code> on the number. Example: <code>1i</code>.</td>\n",
    "</tr>\n",
    "\n",
    "<tr>\n",
    "<td align=\"left\">String</td>\n",
    "<td align=\"left\">Measurements, tag keys, tag values, field keys, field values</td>\n",
    "<td align=\"left\">Length limit 64KB.</td>\n",
    "</tr>\n",
    "\n",
    "<tr>\n",
    "<td align=\"left\">Boolean</td>\n",
    "<td align=\"left\">Field values</td>\n",
    "<td align=\"left\">Stores TRUE or FALSE values.<br><br>TRUE write syntax:<code>[t, T, true, True, TRUE]</code>.<br><br>FALSE write syntax:<code>[f, F, false, False, FALSE]</code></td>\n",
    "</tr>\n",
    "\n",
    "<tr>\n",
    "<td align=\"left\">Timestamp</td>\n",
    "<td align=\"left\">Timestamps</td>\n",
    "<td align=\"left\">Unix nanosecond timestamp. Specify alternative precisions with the <a href=\"/influxdb/v1.7/tools/api/#write-http-endpoint\">InfluxDB API</a>. The minimum valid timestamp is <code>-9223372036854775806</code> or <code>1677-09-21T00:12:43.145224194Z</code>. The maximum valid timestamp is <code>9223372036854775806</code> or <code>2262-04-11T23:47:16.854775806Z</code>.</td>\n",
    "</tr>\n",
    "</tbody>\n",
    "</table>"
   ]
  },
  {
   "cell_type": "code",
   "execution_count": 2,
   "metadata": {},
   "outputs": [],
   "source": [
    "from influxdb import InfluxDBClient"
   ]
  },
  {
   "cell_type": "code",
   "execution_count": 3,
   "metadata": {},
   "outputs": [],
   "source": [
    "INFLUXDB_USER='telegraf'\n",
    "INFLUXDB_USER_PASSWORD='secretpassword'\n",
    "\n",
    "host='db.influxdb.app.com'\n",
    "port=8086\n",
    "\"\"\"Instantiate a connection to the InfluxDB.\"\"\"\n",
    "user = 'admin'\n",
    "password = 'supersecretpassword'\n",
    "dbname = 'example'\n",
    "\n",
    "dbuser = 'telegraf'\n",
    "dbuser_password = 'secretpassword'\n",
    "\n",
    "\n",
    "client = InfluxDBClient(host, port, user, password, dbname)"
   ]
  },
  {
   "cell_type": "code",
   "execution_count": 4,
   "metadata": {},
   "outputs": [],
   "source": [
    "client.create_database(dbname)"
   ]
  },
  {
   "cell_type": "code",
   "execution_count": 5,
   "metadata": {},
   "outputs": [],
   "source": [
    "client.create_retention_policy('awesome_policy', '3d', 3, default=True)"
   ]
  },
  {
   "cell_type": "code",
   "execution_count": 8,
   "metadata": {},
   "outputs": [],
   "source": [
    "client.switch_user(dbuser, dbuser_password)"
   ]
  },
  {
   "cell_type": "code",
   "execution_count": 9,
   "metadata": {},
   "outputs": [],
   "source": [
    "from datetime import datetime"
   ]
  },
  {
   "cell_type": "code",
   "execution_count": 95,
   "metadata": {},
   "outputs": [],
   "source": [
    "from random import choice, randint, random, uniform, lognormvariate"
   ]
  },
  {
   "cell_type": "code",
   "execution_count": 132,
   "metadata": {},
   "outputs": [],
   "source": [
    "from datetime import timedelta"
   ]
  },
  {
   "cell_type": "code",
   "execution_count": 134,
   "metadata": {},
   "outputs": [
    {
     "data": {
      "text/plain": [
       "datetime.timedelta(seconds=1)"
      ]
     },
     "execution_count": 134,
     "metadata": {},
     "output_type": "execute_result"
    }
   ],
   "source": [
    "timedelta(seconds=1)"
   ]
  },
  {
   "cell_type": "code",
   "execution_count": 138,
   "metadata": {},
   "outputs": [
    {
     "data": {
      "text/plain": [
       "'2019-08-17T20:07:49'"
      ]
     },
     "execution_count": 138,
     "metadata": {},
     "output_type": "execute_result"
    }
   ],
   "source": [
    "(datetime.now() - timedelta(seconds=10)).strftime(\"%Y-%m-%dT%H:%M:%S\")"
   ]
  },
  {
   "cell_type": "code",
   "execution_count": 139,
   "metadata": {},
   "outputs": [],
   "source": [
    "def feed_db(n, i):\n",
    "    json_body = [\n",
    "        {\n",
    "            \"measurement\": \"starfleet\",\n",
    "            \"tags\": {\n",
    "                \"customer\": \"Spock\",\n",
    "                \"region\": \"Vulcan\"\n",
    "            },\n",
    "            \"time\": (datetime.now() - timedelta(seconds=2*(n - i))).strftime(\"%Y-%m-%dT%H:%M:%S\"),\n",
    "            \"fields\": {\n",
    "                \"speed\": lognormvariate(10, 3),\n",
    "                \"consumption\": uniform(0, 300),\n",
    "                \"spacecraft\": f\"NX-8{randint(1, 100):04d}\",\n",
    "                \"pressure_µ\": 3 + random(),\n",
    "                \"status_a\": choice((True, False))\n",
    "            }\n",
    "        }\n",
    "    ]\n",
    "    client.write_points(json_body)"
   ]
  },
  {
   "cell_type": "code",
   "execution_count": 169,
   "metadata": {},
   "outputs": [],
   "source": [
    "feed_db(0, 0)"
   ]
  },
  {
   "cell_type": "code",
   "execution_count": 170,
   "metadata": {},
   "outputs": [],
   "source": [
    "for i in range(10_000):\n",
    "    feed_db(10_000, i)"
   ]
  },
  {
   "cell_type": "raw",
   "metadata": {},
   "source": [
    "client.delete_series(database=\"example\", measurement=\"starfleet\")"
   ]
  },
  {
   "cell_type": "code",
   "execution_count": 203,
   "metadata": {},
   "outputs": [
    {
     "data": {
      "text/plain": [
       "ResultSet({})"
      ]
     },
     "execution_count": 203,
     "metadata": {},
     "output_type": "execute_result"
    }
   ],
   "source": [
    "client.query(query='select speed from starfleet WHERE customer=\"Spock\" LIMIT 10')"
   ]
  },
  {
   "cell_type": "code",
   "execution_count": 195,
   "metadata": {},
   "outputs": [
    {
     "data": {
      "text/plain": [
       "ResultSet({'('starfleet', None)': [{'time': '2019-08-17T14:36:18Z', 'speed': 2375.1424165046697}, {'time': '2019-08-17T14:36:20Z', 'speed': 1605.8913585480118}, {'time': '2019-08-17T14:36:22Z', 'speed': 1794.24062021838}, {'time': '2019-08-17T14:36:24Z', 'speed': 18417.724583734158}, {'time': '2019-08-17T14:36:26Z', 'speed': 55503.833538725405}, {'time': '2019-08-17T14:36:28Z', 'speed': 606863.670247295}, {'time': '2019-08-17T14:36:30Z', 'speed': 6717.589380048821}, {'time': '2019-08-17T14:36:32Z', 'speed': 57989.4410803469}, {'time': '2019-08-17T14:36:34Z', 'speed': 312601.23256732646}, {'time': '2019-08-17T14:36:36Z', 'speed': 160.44703809585403}]})"
      ]
     },
     "execution_count": 195,
     "metadata": {},
     "output_type": "execute_result"
    }
   ],
   "source": [
    "result = client.query(query='select speed from starfleet WHERE time > now() - 1d LIMIT 10;')\n",
    "result"
   ]
  },
  {
   "cell_type": "code",
   "execution_count": 210,
   "metadata": {},
   "outputs": [],
   "source": [
    "from influxdb import DataFrameClient\n",
    "dfclient = DataFrameClient(host, port, user, password, dbname)"
   ]
  },
  {
   "cell_type": "code",
   "execution_count": 212,
   "metadata": {},
   "outputs": [
    {
     "data": {
      "text/plain": [
       "defaultdict(list,\n",
       "            {'starfleet':                            consumption customer  pressure_µ  region  \\\n",
       "             2019-08-17 16:28:36+00:00   182.967123    Spock    3.291566  Vulcan   \n",
       "             2019-08-17 16:28:37+00:00    63.054074    Spock    3.899906  Vulcan   \n",
       "             2019-08-17 16:28:38+00:00   232.554806    Spock    3.206523  Vulcan   \n",
       "             2019-08-17 16:28:39+00:00    48.479550    Spock    3.275066  Vulcan   \n",
       "             2019-08-17 16:28:40+00:00   122.219594    Spock    3.423004  Vulcan   \n",
       "             2019-08-17 16:28:41+00:00   291.232829    Spock    3.219924  Vulcan   \n",
       "             2019-08-17 16:28:42+00:00   110.382003    Spock    3.082527  Vulcan   \n",
       "             2019-08-17 16:28:43+00:00   140.851202    Spock    3.604714  Vulcan   \n",
       "             2019-08-17 16:28:44+00:00    42.516207    Spock    3.006794  Vulcan   \n",
       "             2019-08-17 16:28:45+00:00   193.077897    Spock    3.372161  Vulcan   \n",
       "             \n",
       "                                       spacecraft          speed  status_a  \n",
       "             2019-08-17 16:28:36+00:00   NX-80081    1576.942201      True  \n",
       "             2019-08-17 16:28:37+00:00   NX-80059      35.037765     False  \n",
       "             2019-08-17 16:28:38+00:00   NX-80065   54260.480450      True  \n",
       "             2019-08-17 16:28:39+00:00   NX-80043   11520.175846      True  \n",
       "             2019-08-17 16:28:40+00:00   NX-80023    7756.746841      True  \n",
       "             2019-08-17 16:28:41+00:00   NX-80050   51117.148414     False  \n",
       "             2019-08-17 16:28:42+00:00   NX-80010     165.001801      True  \n",
       "             2019-08-17 16:28:43+00:00   NX-80007   43273.826227      True  \n",
       "             2019-08-17 16:28:44+00:00   NX-80051  191943.645289     False  \n",
       "             2019-08-17 16:28:45+00:00   NX-80050  244701.243020      True  })"
      ]
     },
     "execution_count": 212,
     "metadata": {},
     "output_type": "execute_result"
    }
   ],
   "source": [
    "dfclient.query(query='select * from starfleet WHERE time > now() - 1d LIMIT 10;')"
   ]
  },
  {
   "cell_type": "code",
   "execution_count": 207,
   "metadata": {},
   "outputs": [],
   "source": [
    "result = client.query(query='SELECT * FROM \"h2o_feet\",\"h2o_pH\"')"
   ]
  },
  {
   "cell_type": "code",
   "execution_count": 208,
   "metadata": {},
   "outputs": [
    {
     "data": {
      "text/plain": [
       "ResultSet({})"
      ]
     },
     "execution_count": 208,
     "metadata": {},
     "output_type": "execute_result"
    }
   ],
   "source": [
    "result"
   ]
  },
  {
   "cell_type": "code",
   "execution_count": 206,
   "metadata": {},
   "outputs": [
    {
     "ename": "InfluxDBClientError",
     "evalue": "400: {\"error\":\"error parsing query: found customer, expected identifier at line 1, char 27\"}\n",
     "output_type": "error",
     "traceback": [
      "\u001b[0;31m---------------------------------------------------------------------------\u001b[0m",
      "\u001b[0;31mInfluxDBClientError\u001b[0m                       Traceback (most recent call last)",
      "\u001b[0;32m<ipython-input-206-15e637e81f96>\u001b[0m in \u001b[0;36m<module>\u001b[0;34m\u001b[0m\n\u001b[0;32m----> 1\u001b[0;31m \u001b[0mclient\u001b[0m\u001b[0;34m.\u001b[0m\u001b[0mquery\u001b[0m\u001b[0;34m(\u001b[0m\u001b[0;34m\"SHOW TAG VALUES WITH KEY = 'customer'\"\u001b[0m\u001b[0;34m)\u001b[0m\u001b[0;34m\u001b[0m\u001b[0;34m\u001b[0m\u001b[0m\n\u001b[0m",
      "\u001b[0;32m/opt/conda/lib/python3.7/site-packages/influxdb/client.py\u001b[0m in \u001b[0;36mquery\u001b[0;34m(self, query, params, epoch, expected_response_code, database, raise_errors, chunked, chunk_size, method)\u001b[0m\n\u001b[1;32m    414\u001b[0m             \u001b[0mparams\u001b[0m\u001b[0;34m=\u001b[0m\u001b[0mparams\u001b[0m\u001b[0;34m,\u001b[0m\u001b[0;34m\u001b[0m\u001b[0;34m\u001b[0m\u001b[0m\n\u001b[1;32m    415\u001b[0m             \u001b[0mdata\u001b[0m\u001b[0;34m=\u001b[0m\u001b[0;32mNone\u001b[0m\u001b[0;34m,\u001b[0m\u001b[0;34m\u001b[0m\u001b[0;34m\u001b[0m\u001b[0m\n\u001b[0;32m--> 416\u001b[0;31m             \u001b[0mexpected_response_code\u001b[0m\u001b[0;34m=\u001b[0m\u001b[0mexpected_response_code\u001b[0m\u001b[0;34m\u001b[0m\u001b[0;34m\u001b[0m\u001b[0m\n\u001b[0m\u001b[1;32m    417\u001b[0m         )\n\u001b[1;32m    418\u001b[0m \u001b[0;34m\u001b[0m\u001b[0m\n",
      "\u001b[0;32m/opt/conda/lib/python3.7/site-packages/influxdb/client.py\u001b[0m in \u001b[0;36mrequest\u001b[0;34m(self, url, method, params, data, expected_response_code, headers)\u001b[0m\n\u001b[1;32m    284\u001b[0m             \u001b[0;32mreturn\u001b[0m \u001b[0mresponse\u001b[0m\u001b[0;34m\u001b[0m\u001b[0;34m\u001b[0m\u001b[0m\n\u001b[1;32m    285\u001b[0m         \u001b[0;32melse\u001b[0m\u001b[0;34m:\u001b[0m\u001b[0;34m\u001b[0m\u001b[0;34m\u001b[0m\u001b[0m\n\u001b[0;32m--> 286\u001b[0;31m             \u001b[0;32mraise\u001b[0m \u001b[0mInfluxDBClientError\u001b[0m\u001b[0;34m(\u001b[0m\u001b[0mresponse\u001b[0m\u001b[0;34m.\u001b[0m\u001b[0mcontent\u001b[0m\u001b[0;34m,\u001b[0m \u001b[0mresponse\u001b[0m\u001b[0;34m.\u001b[0m\u001b[0mstatus_code\u001b[0m\u001b[0;34m)\u001b[0m\u001b[0;34m\u001b[0m\u001b[0;34m\u001b[0m\u001b[0m\n\u001b[0m\u001b[1;32m    287\u001b[0m \u001b[0;34m\u001b[0m\u001b[0m\n\u001b[1;32m    288\u001b[0m     def write(self, data, params=None, expected_response_code=204,\n",
      "\u001b[0;31mInfluxDBClientError\u001b[0m: 400: {\"error\":\"error parsing query: found customer, expected identifier at line 1, char 27\"}\n"
     ]
    }
   ],
   "source": [
    "client.query(\"SHOW TAG VALUES WITH KEY = 'customer'\")"
   ]
  },
  {
   "cell_type": "code",
   "execution_count": 201,
   "metadata": {},
   "outputs": [
    {
     "data": {
      "text/plain": [
       "ResultSet({'('starfleet', None)': [{'tagKey': 'customer'}, {'tagKey': 'region'}]})"
      ]
     },
     "execution_count": 201,
     "metadata": {},
     "output_type": "execute_result"
    }
   ],
   "source": [
    "client.query(\"SHOW TAG KEYS\")"
   ]
  },
  {
   "cell_type": "code",
   "execution_count": 199,
   "metadata": {},
   "outputs": [
    {
     "data": {
      "text/plain": [
       "ResultSet({'('starfleet', None)': [{'time': '2019-08-17T14:36:18Z', 'consumption': 126.73624498383099, 'customer': 'Spock', 'pressure_µ': 3.0421040377041475, 'region': 'Vulcan', 'spacecraft': 'NX-80076', 'speed': 2375.1424165046697, 'status_a': False}]})"
      ]
     },
     "execution_count": 199,
     "metadata": {},
     "output_type": "execute_result"
    }
   ],
   "source": [
    "client.query(\"SELECT * from starfleet LIMIT 1\")"
   ]
  },
  {
   "cell_type": "code",
   "execution_count": 176,
   "metadata": {},
   "outputs": [],
   "source": [
    "import datetime"
   ]
  },
  {
   "cell_type": "code",
   "execution_count": 194,
   "metadata": {},
   "outputs": [
    {
     "ename": "AttributeError",
     "evalue": "module 'datetime' has no attribute 'strftime'",
     "output_type": "error",
     "traceback": [
      "\u001b[0;31m---------------------------------------------------------------------------\u001b[0m",
      "\u001b[0;31mAttributeError\u001b[0m                            Traceback (most recent call last)",
      "\u001b[0;32m<ipython-input-194-86fc3cc35553>\u001b[0m in \u001b[0;36m<module>\u001b[0;34m\u001b[0m\n\u001b[0;32m----> 1\u001b[0;31m \u001b[0mdatetime\u001b[0m\u001b[0;34m.\u001b[0m\u001b[0mstrftime\u001b[0m\u001b[0;34m(\u001b[0m\u001b[0;34m\"2019-08-17 19:52:40\"\u001b[0m\u001b[0;34m)\u001b[0m\u001b[0;34m\u001b[0m\u001b[0;34m\u001b[0m\u001b[0m\n\u001b[0m",
      "\u001b[0;31mAttributeError\u001b[0m: module 'datetime' has no attribute 'strftime'"
     ]
    }
   ],
   "source": [
    "datetime.strftime(\"2019-08-17 19:52:40\")"
   ]
  },
  {
   "cell_type": "code",
   "execution_count": 193,
   "metadata": {},
   "outputs": [
    {
     "data": {
      "text/plain": [
       "ResultSet({'('starfleet', None)': [{'time': '1970-01-01T00:00:00Z', 'count_consumption': 15487, 'count_pressure_µ': 15487, 'count_spacecraft': 15487, 'count_speed': 15487, 'count_status_a': 15487}]})"
      ]
     },
     "execution_count": 193,
     "metadata": {},
     "output_type": "execute_result"
    }
   ],
   "source": [
    "client.query('SELECT count(*) FROM starfleet WHERE time <= now();')"
   ]
  },
  {
   "cell_type": "code",
   "execution_count": null,
   "metadata": {},
   "outputs": [],
   "source": [
    "    print(\"Create database: \" + dbname)\n",
    "\n",
    "    print(\"Create a retention policy\")\n",
    "\n",
    "    print(\"Switch user: \" + dbuser)\n",
    "    \n",
    "\n",
    "    print(\"Write points: {0}\".format(json_body))\n",
    "    client.write_points(json_body)\n",
    "\n",
    "    print(\"Querying data: \" + query)\n",
    "    result = client.query(query)\n",
    "\n",
    "    print(\"Result: {0}\".format(result))\n",
    "\n",
    "    print(\"Switch user: \" + user)\n",
    "    client.switch_user(user, password)\n",
    "\n",
    "    print(\"Drop database: \" + dbname)\n",
    "    client.drop_database(dbname)"
   ]
  }
 ],
 "metadata": {
  "kernelspec": {
   "display_name": "Python 3",
   "language": "python",
   "name": "python3"
  },
  "language_info": {
   "codemirror_mode": {
    "name": "ipython",
    "version": 3
   },
   "file_extension": ".py",
   "mimetype": "text/x-python",
   "name": "python",
   "nbconvert_exporter": "python",
   "pygments_lexer": "ipython3",
   "version": "3.7.3"
  }
 },
 "nbformat": 4,
 "nbformat_minor": 4
}
