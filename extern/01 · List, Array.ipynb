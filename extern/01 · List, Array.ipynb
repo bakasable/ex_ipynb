{
 "cells": [
  {
   "cell_type": "code",
   "execution_count": 1,
   "metadata": {},
   "outputs": [],
   "source": [
    "import sys\n",
    "from sys import getsizeof\n",
    "from dis import dis\n",
    "import timeit\n",
    "from statistics import mean\n",
    "from array import array\n",
    "import pandas as pd\n",
    "import numpy as np\n",
    "\n",
    "from IPython.display import HTML, display"
   ]
  },
  {
   "cell_type": "code",
   "execution_count": 2,
   "metadata": {},
   "outputs": [],
   "source": [
    "import os\n",
    "import gc\n",
    "import random\n",
    "import time\n",
    "import matplotlib.pyplot as plt\n",
    "%matplotlib inline"
   ]
  },
  {
   "cell_type": "markdown",
   "metadata": {},
   "source": [
    "# List\n",
    "\n",
    "- lists are a mutable [Sequence Types](https://docs.python.org/3/library/stdtypes.html#typesseq)\n",
    "- Tuples are immutable sequences\n",
    "\n",
    "[PyListObject](https://github.com/python/cpython/blob/master/Include/listobject.h#L23) definition:\n",
    "```C\n",
    "typedef struct {\n",
    "    PyObject_VAR_HEAD\n",
    "    PyObject **ob_item;\n",
    "    Py_ssize_t allocated;\n",
    "} PyListObject;\n",
    "```\n",
    "\n",
    "\n",
    "[PyList_Append](https://github.com/python/cpython/blob/master/Objects/listobject.c#L348) definition:\n",
    "    \n",
    "    \n",
    "[CPython’s lists are really variable-length arrays](https://docs.python.org/3/faq/design.html#id19). The implementation uses a contiguous array of references to other objects, and keeps a pointer to this array and the array’s length in a list head structure.\n",
    "\n",
    "This makes indexing a list *a[i]* an operation whose cost is independent of the size of the list or the value of the index.\n",
    "\n",
    "When items are appended or inserted, the array of references is resized. Some cleverness is applied to improve the performance of appending items repeatedly; when the array must be grown, some extra space is allocated so the next few times don’t require an actual resize.\n",
    "   \n",
    "\n",
    "https://github.com/python/cpython/blob/master/Objects/listobject.c"
   ]
  },
  {
   "cell_type": "code",
   "execution_count": 126,
   "metadata": {},
   "outputs": [
    {
     "data": {
      "image/png": "[encoded data removed]",
      "text/plain": [
       "<Figure size 1152x648 with 1 Axes>"
      ]
     },
     "execution_count": 126,
     "metadata": {},
     "output_type": "execute_result"
    }
   ],
   "source": [
    "N = 10_000\n",
    "l = []\n",
    "y = np.empty(N)\n",
    "\n",
    "elt_size = 8\n",
    "for i in range(N):\n",
    "    l.append(i)\n",
    "    y[i] = (getsizeof(l) - 8 * i) / 8\n",
    "    \n",
    "# Plot that\n",
    "fig = Figure(figsize=(16,9))\n",
    "canvas = FigureCanvas(fig)\n",
    "\n",
    "ax = fig.add_subplot(1, 1, 1)\n",
    "ax.scatter(range(N), y, marker=\".\", s=0.1)\n",
    "fig"
   ]
  },
  {
   "cell_type": "markdown",
   "metadata": {},
   "source": [
    "https://jakevdp.github.io/PythonDataScienceHandbook/02.01-understanding-data-types.html"
   ]
  },
  {
   "cell_type": "markdown",
   "metadata": {},
   "source": [
    "## memory"
   ]
  },
  {
   "cell_type": "markdown",
   "metadata": {},
   "source": [
    "https://stackoverflow.com/questions/7247298"
   ]
  },
  {
   "cell_type": "code",
   "execution_count": 12,
   "metadata": {},
   "outputs": [],
   "source": [
    "def f0():\n",
    "    \"\"\"Type constructor\"\"\"\n",
    "    return list()\n",
    "\n",
    "def f1():\n",
    "    \"\"\"square brackets\"\"\"\n",
    "    return []\n",
    "\n",
    "def f2():\n",
    "    \"\"\"square brackets with initial value\"\"\"\n",
    "    return [1]\n",
    "\n",
    "def f3():\n",
    "    \"\"\"square brackets and append\"\"\"\n",
    "    lst = []\n",
    "    lst.append(1)\n",
    "    return lst\n",
    "\n",
    "def f4():\n",
    "    \"\"\"Array, empty\"\"\"\n",
    "    return array('i', [])\n",
    "\n",
    "def f5():\n",
    "    \"\"\"Array\"\"\"\n",
    "    return array('i', [1])\n",
    "\n",
    "def f6():\n",
    "    \"\"\"Numpy\"\"\"\n",
    "    return np.array([1])\n",
    "\n",
    "def compute_timeit(func, n=7):\n",
    "    \"\"\"\n",
    "    Return the average timeit computed time for a function func\n",
    "    \"\"\"\n",
    "    t = timeit.Timer(func).repeat(repeat=7)\n",
    "    return round(mean(t), 2)\n",
    "\n",
    "f = [f0, f1, f2, f3, f4, f5, f6]"
   ]
  },
  {
   "cell_type": "code",
   "execution_count": 13,
   "metadata": {},
   "outputs": [],
   "source": [
    "t = timeit.Timer(f1) #.repeat(repeat=7)"
   ]
  },
  {
   "cell_type": "code",
   "execution_count": 14,
   "metadata": {},
   "outputs": [
    {
     "data": {
      "text/html": [
       "<center><table><tr><th/><th>Type constructor</th><th>square brackets</th><th>square brackets with initial value</th><th>square brackets and append</th><th>Array, empty</th><th>Array</th><th>Numpy</th></tr><tr><th>getsizeof</th><td>64</td><td>64</td><td>72</td><td>96</td><td>64</td><td>68</td><td>104</td></tr><tr><th>timeit [ns]</th><td>0.16</td><td>0.07</td><td>0.1</td><td>0.17</td><td>0.31</td><td>0.41</td><td>1.09</td></tr></table></center>"
      ],
      "text/plain": [
       "<IPython.core.display.HTML object>"
      ]
     },
     "execution_count": 14,
     "metadata": {},
     "output_type": "execute_result"
    }
   ],
   "source": [
    "HTML(\"<center><table>\"\n",
    "     \"<tr><th/><th>\" + \"</th><th>\".join([_f.__doc__ for _f in f]) + \"</th></tr>\"\n",
    "     \"<tr><th>getsizeof</th><td>\" + \"</td><td>\".join([str(getsizeof(_f())) for _f in f]) + \"</td></tr>\"\n",
    "     \"<tr><th>timeit [ns]</th><td>\" + \"</td><td>\".join([str(compute_timeit(_f)) for _f in f]) + \"</td></tr>\"\n",
    "     \"</table></center>\")"
   ]
  },
  {
   "cell_type": "code",
   "execution_count": 17,
   "metadata": {},
   "outputs": [
    {
     "name": "stdout",
     "output_type": "stream",
     "text": [
      "  3           0 LOAD_GLOBAL              0 (list)\n",
      "              2 CALL_FUNCTION            0\n",
      "              4 RETURN_VALUE\n"
     ]
    }
   ],
   "source": [
    "dis(f0)"
   ]
  },
  {
   "cell_type": "code",
   "execution_count": 18,
   "metadata": {},
   "outputs": [
    {
     "name": "stdout",
     "output_type": "stream",
     "text": [
      "  7           0 BUILD_LIST               0\n",
      "              2 RETURN_VALUE\n"
     ]
    }
   ],
   "source": [
    "dis(f1)"
   ]
  },
  {
   "cell_type": "code",
   "execution_count": 19,
   "metadata": {},
   "outputs": [
    {
     "name": "stdout",
     "output_type": "stream",
     "text": [
      " 11           0 LOAD_CONST               1 (1)\n",
      "              2 BUILD_LIST               1\n",
      "              4 RETURN_VALUE\n"
     ]
    }
   ],
   "source": [
    "dis(f2)"
   ]
  },
  {
   "cell_type": "code",
   "execution_count": 20,
   "metadata": {},
   "outputs": [
    {
     "name": "stdout",
     "output_type": "stream",
     "text": [
      " 15           0 BUILD_LIST               0\n",
      "              2 STORE_FAST               0 (lst)\n",
      "\n",
      " 16           4 LOAD_FAST                0 (lst)\n",
      "              6 LOAD_METHOD              0 (append)\n",
      "              8 LOAD_CONST               1 (1)\n",
      "             10 CALL_METHOD              1\n",
      "             12 POP_TOP\n",
      "\n",
      " 17          14 LOAD_FAST                0 (lst)\n",
      "             16 RETURN_VALUE\n"
     ]
    }
   ],
   "source": [
    "dis(f3)"
   ]
  },
  {
   "cell_type": "code",
   "execution_count": 21,
   "metadata": {},
   "outputs": [
    {
     "name": "stdout",
     "output_type": "stream",
     "text": [
      " 21           0 LOAD_GLOBAL              0 (array)\n",
      "              2 LOAD_CONST               1 ('i')\n",
      "              4 BUILD_LIST               0\n",
      "              6 CALL_FUNCTION            2\n",
      "              8 RETURN_VALUE\n"
     ]
    }
   ],
   "source": [
    "dis(f4)"
   ]
  },
  {
   "cell_type": "code",
   "execution_count": 22,
   "metadata": {},
   "outputs": [
    {
     "name": "stdout",
     "output_type": "stream",
     "text": [
      " 25           0 LOAD_GLOBAL              0 (array)\n",
      "              2 LOAD_CONST               1 ('i')\n",
      "              4 LOAD_CONST               2 (1)\n",
      "              6 BUILD_LIST               1\n",
      "              8 CALL_FUNCTION            2\n",
      "             10 RETURN_VALUE\n"
     ]
    }
   ],
   "source": [
    "dis(f5)"
   ]
  },
  {
   "cell_type": "code",
   "execution_count": 23,
   "metadata": {},
   "outputs": [
    {
     "data": {
      "text/plain": [
       "88"
      ]
     },
     "execution_count": 23,
     "metadata": {},
     "output_type": "execute_result"
    }
   ],
   "source": [
    "getsizeof(array('d', [1.0, 2.0, 3.14]))"
   ]
  },
  {
   "cell_type": "code",
   "execution_count": 24,
   "metadata": {},
   "outputs": [
    {
     "data": {
      "text/plain": [
       "120"
      ]
     },
     "execution_count": 24,
     "metadata": {},
     "output_type": "execute_result"
    }
   ],
   "source": [
    "getsizeof(np.array([1.0, 2.0, 3.14], dtype=\"d\"))"
   ]
  },
  {
   "cell_type": "markdown",
   "metadata": {},
   "source": [
    "## Memory allocation"
   ]
  },
  {
   "cell_type": "code",
   "execution_count": 57,
   "metadata": {},
   "outputs": [],
   "source": [
    "from matplotlib.backends.backend_agg import FigureCanvas"
   ]
  },
  {
   "cell_type": "markdown",
   "metadata": {},
   "source": [
    "<table>\n",
    "  <tr>\n",
    "    <td width='50%' style='font-size:150%;padding-right:5%;'>Everything in Python is an object. Some objects can hold other objects, such as lists, tuples, dicts, classes, etc. Because of dynamic Python's nature, such approach requires a lot of small memory allocations. To speed-up memory operations and reduce fragmentation Python uses a special manager on top of the general-purpose allocator, called <a href=\"https://github.com/python/cpython/blob/69f37bcb28d7cd78255828029f895958b5baf6ff/Objects/obmalloc.c#L733\">PyMalloc</a>).</td>\n",
    "    <td><img src='./img/memory_layers.svg'></td>\n",
    "   </tr>\n",
    "</table>"
   ]
  },
  {
   "cell_type": "code",
   "execution_count": 393,
   "metadata": {
    "collapsed": true,
    "jupyter": {
     "outputs_hidden": true
    }
   },
   "outputs": [],
   "source": [
    "a = array('f', [12.4, 54.3, 23.9])"
   ]
  },
  {
   "cell_type": "code",
   "execution_count": 397,
   "metadata": {},
   "outputs": [
    {
     "data": {
      "text/plain": [
       "[12.399999618530273, 23.899999618530273, 34.0, 34.0, 54.29999923706055]"
      ]
     },
     "execution_count": 397,
     "metadata": {},
     "output_type": "execute_result"
    }
   ],
   "source": [
    "sorted(a)"
   ]
  },
  {
   "cell_type": "code",
   "execution_count": 395,
   "metadata": {
    "collapsed": true,
    "jupyter": {
     "outputs_hidden": true
    }
   },
   "outputs": [],
   "source": [
    "insort(a, 34)"
   ]
  },
  {
   "cell_type": "code",
   "execution_count": 396,
   "metadata": {},
   "outputs": [
    {
     "data": {
      "text/plain": [
       "array('f', [12.399999618530273, 34.0, 34.0, 54.29999923706055, 23.899999618530273])"
      ]
     },
     "execution_count": 396,
     "metadata": {},
     "output_type": "execute_result"
    }
   ],
   "source": [
    "a"
   ]
  },
  {
   "cell_type": "code",
   "execution_count": 368,
   "metadata": {},
   "outputs": [
    {
     "name": "stdout",
     "output_type": "stream",
     "text": [
      "816 ns ± 2.53 ns per loop (mean ± std. dev. of 7 runs, 1000000 loops each)\n"
     ]
    }
   ],
   "source": [
    "%%timeit\n",
    "a1 = array('d', [1.0, 2.0, 3.14])\n",
    "a1.append(4.5)"
   ]
  },
  {
   "cell_type": "code",
   "execution_count": 370,
   "metadata": {},
   "outputs": [],
   "source": [
    "a1 = array('d', [1.0, 2.0, 3.14])\n",
    "a1.append(4.5)"
   ]
  },
  {
   "cell_type": "code",
   "execution_count": 377,
   "metadata": {},
   "outputs": [
    {
     "data": {
      "text/plain": [
       "array('d', [3.14, 4.5, 3.14, 4.5, 3.14, 4.5])"
      ]
     },
     "execution_count": 377,
     "metadata": {},
     "output_type": "execute_result"
    }
   ],
   "source": [
    "a1[2:] * 3"
   ]
  },
  {
   "cell_type": "code",
   "execution_count": 362,
   "metadata": {},
   "outputs": [
    {
     "name": "stdout",
     "output_type": "stream",
     "text": [
      "2.2 µs ± 21.1 ns per loop (mean ± std. dev. of 7 runs, 100000 loops each)\n"
     ]
    }
   ],
   "source": [
    "%%timeit \n",
    "np.array([1.0, 2.0, 3.14])"
   ]
  },
  {
   "cell_type": "code",
   "execution_count": 177,
   "metadata": {
    "collapsed": true,
    "jupyter": {
     "outputs_hidden": true
    }
   },
   "outputs": [],
   "source": [
    "# We will prepare artificial dataset that contains orders of the product.\n",
    "# Each order will have random number of items ordered and random price within given range\n",
    "range_products = [1,10000]  # number of products in the dataset\n",
    "range_orders = [1,20]  # range of orders for product from which to select one random value\n",
    "range_quantity = [1,100]  # range of quantity in order from which to select one random value\n",
    "range_price = [0.1,50.00]  # range of product prices from which to select one random value"
   ]
  },
  {
   "cell_type": "code",
   "execution_count": 47,
   "metadata": {
    "collapsed": true,
    "jupyter": {
     "outputs_hidden": true
    }
   },
   "outputs": [],
   "source": [
    "def generate_dummy_dataset(range_products,range_orders,products_quantity,products_price):\n",
    "    generated_dataset = []\n",
    "    for idx in range(*range_products):\n",
    "        random_orders = random.randint(*range_orders) \n",
    "        for odx in range(random_orders):\n",
    "            quantity = random.randint(*range_quantity)\n",
    "            price = random.uniform(*range_price)\n",
    "            generated_dataset.append([idx,odx,quantity,price])\n",
    "    return generated_dataset"
   ]
  },
  {
   "cell_type": "code",
   "execution_count": 48,
   "metadata": {},
   "outputs": [
    {
     "name": "stdout",
     "output_type": "stream",
     "text": [
      "Dataset size 105081 records\n",
      "\n",
      "product_id, product_order_num, quantity, price,\n"
     ]
    },
    {
     "data": {
      "text/plain": [
       "[[1, 0, 5, 21.974971011987638],\n",
       " [1, 1, 70, 38.1101844739709],\n",
       " [1, 2, 39, 21.10216058250481]]"
      ]
     },
     "execution_count": 48,
     "metadata": {},
     "output_type": "execute_result"
    }
   ],
   "source": [
    "dataset_python = generate_dummy_dataset(range_products,range_orders,range_quantity,range_price)\n",
    "print(f\"Dataset size {dataset_python.__len__()} records\\n\")\n",
    "print ('product_id,','product_order_num,','quantity,','price,')\n",
    "dataset_python[0:3]"
   ]
  },
  {
   "cell_type": "code",
   "execution_count": 106,
   "metadata": {
    "collapsed": true,
    "jupyter": {
     "outputs_hidden": true
    }
   },
   "outputs": [],
   "source": [
    "from array import array"
   ]
  },
  {
   "cell_type": "code",
   "execution_count": 107,
   "metadata": {},
   "outputs": [
    {
     "data": {
      "text/plain": [
       "array('f')"
      ]
     },
     "execution_count": 107,
     "metadata": {},
     "output_type": "execute_result"
    }
   ],
   "source": [
    "array('f', [])"
   ]
  },
  {
   "cell_type": "code",
   "execution_count": 322,
   "metadata": {},
   "outputs": [
    {
     "name": "stdout",
     "output_type": "stream",
     "text": [
      "  1           0 LOAD_CONST               2 (12)\n",
      "              2 RETURN_VALUE\n"
     ]
    }
   ],
   "source": [
    "dis.dis('7 + 5')"
   ]
  },
  {
   "cell_type": "code",
   "execution_count": 117,
   "metadata": {},
   "outputs": [
    {
     "data": {
      "text/plain": [
       "[315, 149, 204, 611, 365, 959]"
      ]
     },
     "execution_count": 117,
     "metadata": {},
     "output_type": "execute_result"
    }
   ],
   "source": [
    "random.sample(range(0, 1000), 6)"
   ]
  },
  {
   "cell_type": "code",
   "execution_count": 102,
   "metadata": {},
   "outputs": [
    {
     "data": {
      "text/plain": [
       "16"
      ]
     },
     "execution_count": 102,
     "metadata": {},
     "output_type": "execute_result"
    }
   ],
   "source": [
    "random.randint(*range_orders)"
   ]
  },
  {
   "cell_type": "code",
   "execution_count": 144,
   "metadata": {},
   "outputs": [],
   "source": [
    "_s = 1000000\n",
    "a = array('f', (random.randint(0, 1e6)/1000 for i in range(_s)))\n",
    "b = [random.randint(0, 1e6)/1000 for i in range(_s)]\n",
    "c = memoryview(a)"
   ]
  },
  {
   "cell_type": "code",
   "execution_count": 155,
   "metadata": {
    "collapsed": true,
    "jupyter": {
     "outputs_hidden": true
    }
   },
   "outputs": [],
   "source": [
    "p = 10000"
   ]
  },
  {
   "cell_type": "code",
   "execution_count": 156,
   "metadata": {},
   "outputs": [
    {
     "data": {
      "text/plain": [
       "10000"
      ]
     },
     "execution_count": 156,
     "metadata": {},
     "output_type": "execute_result"
    }
   ],
   "source": [
    "p"
   ]
  },
  {
   "cell_type": "code",
   "execution_count": 172,
   "metadata": {},
   "outputs": [
    {
     "name": "stdout",
     "output_type": "stream",
     "text": [
      "116 ns ± 0.908 ns per loop (mean ± std. dev. of 7 runs, 10000000 loops each)\n"
     ]
    }
   ],
   "source": [
    "%timeit a[p]"
   ]
  },
  {
   "cell_type": "code",
   "execution_count": 173,
   "metadata": {},
   "outputs": [
    {
     "name": "stdout",
     "output_type": "stream",
     "text": [
      "110 ns ± 0.873 ns per loop (mean ± std. dev. of 7 runs, 10000000 loops each)\n"
     ]
    }
   ],
   "source": [
    "%timeit b[p]"
   ]
  },
  {
   "cell_type": "code",
   "execution_count": 174,
   "metadata": {},
   "outputs": [
    {
     "name": "stdout",
     "output_type": "stream",
     "text": [
      "208 ns ± 3.51 ns per loop (mean ± std. dev. of 7 runs, 1000000 loops each)\n"
     ]
    }
   ],
   "source": [
    "%timeit c[p]"
   ]
  },
  {
   "cell_type": "code",
   "execution_count": 175,
   "metadata": {},
   "outputs": [],
   "source": [
    "c = np.random.randint(1e6, size=(_s,)) / 1000"
   ]
  },
  {
   "cell_type": "code",
   "execution_count": 176,
   "metadata": {
    "scrolled": true
   },
   "outputs": [
    {
     "name": "stdout",
     "output_type": "stream",
     "text": [
      "211 ns ± 3.42 ns per loop (mean ± std. dev. of 7 runs, 1000000 loops each)\n"
     ]
    }
   ],
   "source": [
    "%timeit c[p]"
   ]
  },
  {
   "cell_type": "code",
   "execution_count": 92,
   "metadata": {},
   "outputs": [],
   "source": [
    "a.append(0)"
   ]
  },
  {
   "cell_type": "code",
   "execution_count": 49,
   "metadata": {},
   "outputs": [
    {
     "data": {
      "text/plain": [
       "105081"
      ]
     },
     "execution_count": 49,
     "metadata": {},
     "output_type": "execute_result"
    }
   ],
   "source": [
    "dataset_python.__len__()"
   ]
  },
  {
   "cell_type": "markdown",
   "metadata": {},
   "source": [
    "## 03a. Pure Python function (nested loops)"
   ]
  },
  {
   "cell_type": "code",
   "execution_count": 54,
   "metadata": {
    "collapsed": true,
    "jupyter": {
     "outputs_hidden": true
    }
   },
   "outputs": [],
   "source": [
    "def gen_stats_python1(dataset_python):\n",
    "    start = time.time()\n",
    "    tag = 'Python (\"nested loops\")'\n",
    "    product_stats = []\n",
    "    unique_products = set([x[0] for x in dataset_python])\n",
    "    for product_id in unique_products:\n",
    "        product_items = [x for x in dataset_python if x[0] == product_id ]\n",
    "        num_orders = len(product_items)\n",
    "        total_quantity = 0\n",
    "        total_price = 0\n",
    "        for row in product_items:\n",
    "            total_quantity += row[2]\n",
    "            total_price += row[3]\n",
    "        avg_price = float(total_price / num_orders)\n",
    "        product_stats.append([product_id, num_orders, total_quantity, round(avg_price,2)])\n",
    "    end = time.time()\n",
    "    working_time = end - start\n",
    "    return product_stats, working_time, tag"
   ]
  },
  {
   "cell_type": "code",
   "execution_count": 80,
   "metadata": {},
   "outputs": [
    {
     "name": "stdout",
     "output_type": "stream",
     "text": [
      "431 ms ± 7.65 ms per loop (mean ± std. dev. of 7 runs, 2 loops each)\n"
     ]
    }
   ],
   "source": [
    "%%timeit -r7 -n2\n",
    "dataset_python = generate_dummy_dataset(range_products,range_orders,range_quantity,range_price)\n",
    "dataset_python.sort(key=lambda item: item[0])"
   ]
  },
  {
   "cell_type": "code",
   "execution_count": 81,
   "metadata": {},
   "outputs": [
    {
     "name": "stdout",
     "output_type": "stream",
     "text": [
      "428 ms ± 5.38 ms per loop (mean ± std. dev. of 7 runs, 2 loops each)\n"
     ]
    }
   ],
   "source": [
    "%%timeit -r7 -n2\n",
    "dataset_python = generate_dummy_dataset(range_products,range_orders,range_quantity,range_price)\n",
    "dataset_python = sorted(dataset_python, key=lambda item: item[0])"
   ]
  },
  {
   "cell_type": "markdown",
   "metadata": {},
   "source": [
    "## 03b. Pure Python function (rolling sums)"
   ]
  },
  {
   "cell_type": "code",
   "execution_count": 55,
   "metadata": {
    "collapsed": true,
    "jupyter": {
     "outputs_hidden": true
    }
   },
   "outputs": [],
   "source": [
    "def gen_stats_python2(dataset_python):\n",
    "    start = time.time()\n",
    "    tag = 'Python (\"rolling sums\")'\n",
    "    dataset_python = sorted(dataset_python, key=lambda item: item[0])\n",
    "    product_stats = []\n",
    "    prev_product_id = dataset_python[0][0]\n",
    "    num_orders = 0\n",
    "    sum_quantity = 0\n",
    "    sum_prices = 0\n",
    "    for row in dataset_python:\n",
    "        if row[0]==prev_product_id:\n",
    "            num_orders += 1\n",
    "            sum_quantity += row[2]\n",
    "            sum_prices += row[3]\n",
    "        else:\n",
    "            product_stats.append([prev_product_id, num_orders, sum_quantity, round(sum_prices/num_orders,2)])\n",
    "            prev_product_id = row[0]\n",
    "            num_orders = 1\n",
    "            sum_quantity = row[2]\n",
    "            sum_prices = row[3]\n",
    "    product_stats.append([prev_product_id, num_orders, sum_quantity , round(sum_prices/num_orders,2)])                      \n",
    "    end = time.time()\n",
    "    working_time = end-start\n",
    "    return product_stats,working_time,tag"
   ]
  },
  {
   "cell_type": "code",
   "execution_count": 69,
   "metadata": {
    "collapsed": true,
    "jupyter": {
     "outputs_hidden": true
    }
   },
   "outputs": [],
   "source": [
    "def gen_stats_python3(dataset_python):\n",
    "    start = time.time()\n",
    "    tag = 'Python (\"rolling sums\")'\n",
    "    dataset_python.sort(key=lambda item: item[0])\n",
    "    product_stats = []\n",
    "    prev_product_id = dataset_python[0][0]\n",
    "    num_orders = 0\n",
    "    sum_quantity = 0\n",
    "    sum_prices = 0\n",
    "    for row in dataset_python:\n",
    "        if row[0]==prev_product_id:\n",
    "            num_orders += 1\n",
    "            sum_quantity += row[2]\n",
    "            sum_prices += row[3]\n",
    "        else:\n",
    "            product_stats.append([prev_product_id,int(num_orders),int(sum_quantity),round(sum_prices/num_orders,2)])\n",
    "            prev_product_id = row[0]\n",
    "            num_orders = 1\n",
    "            sum_quantity = row[2]\n",
    "            sum_prices = row[3]\n",
    "    product_stats.append([prev_product_id,int(num_orders),int(sum_quantity),round(sum_prices/num_orders,2)])                      \n",
    "    end = time.time()\n",
    "    working_time = end-start\n",
    "    return product_stats,working_time,tag"
   ]
  },
  {
   "cell_type": "code",
   "execution_count": 70,
   "metadata": {},
   "outputs": [
    {
     "name": "stdout",
     "output_type": "stream",
     "text": [
      "Python (\"rolling sums\") 0.08016157150268555 sec\n"
     ]
    }
   ],
   "source": [
    "dataset_python = generate_dummy_dataset(range_products,range_orders,range_quantity,range_price)\n",
    "\n",
    "result = gen_stats_python3(dataset_python)\n",
    "alg_time.append(result[1])\n",
    "print (result[2],min(alg_time),'sec')\n",
    "running_time.append ([result[2],min(alg_time)])"
   ]
  },
  {
   "cell_type": "markdown",
   "metadata": {},
   "source": [
    "## 04a. Pandas function (nested loops)"
   ]
  },
  {
   "cell_type": "code",
   "execution_count": 7,
   "metadata": {
    "collapsed": true,
    "jupyter": {
     "outputs_hidden": true
    }
   },
   "outputs": [],
   "source": [
    "def gen_stats_pandas1(dataset_python):\n",
    "    start = time.time()\n",
    "    tag = 'Pandas (\"nested loops\")'\n",
    "    dataset_pandas = pd.DataFrame(data=dataset_python,columns=['product_id','product_order_num','quantity','price'])\n",
    "    product_stats = []\n",
    "    for product_id in pd.unique(dataset_pandas['product_id']):\n",
    "        product_items = dataset_pandas.loc[dataset_pandas['product_id'] == product_id]\n",
    "        num_orders = product_items.shape[0]\n",
    "        total_quantity = product_items['quantity'].sum()\n",
    "        avg_price = float(product_items['price'].mean())\n",
    "        product_stats.append([int(product_id),int(num_orders),int(total_quantity),round(avg_price,2)])\n",
    "    end = time.time()\n",
    "    working_time = end-start\n",
    "    return product_stats,working_time,tag"
   ]
  },
  {
   "cell_type": "markdown",
   "metadata": {},
   "source": [
    "## 04b. Pandas function (group & aggregate)"
   ]
  },
  {
   "cell_type": "code",
   "execution_count": 8,
   "metadata": {
    "collapsed": true,
    "jupyter": {
     "outputs_hidden": true
    }
   },
   "outputs": [],
   "source": [
    "def gen_stats_pandas2(dataset_python):\n",
    "    start = time.time()\n",
    "    tag = 'Pandas (\"group/aggregate\")'\n",
    "    dataset_pandas = pd.DataFrame(data=dataset_python,columns=['product_id','product_order_num','quantity','price'])\n",
    "    product_stats = []\n",
    "    calc_stats = dataset_pandas.groupby('product_id')\n",
    "    calc_stats = calc_stats.aggregate({'product_order_num': 'count','quantity': 'sum','price': 'mean'})\n",
    "    calc_stats = calc_stats.reset_index().values.tolist()\n",
    "    product_stats = [[int(item[0]),int(item[1]),int(item[2]),round(item[3],2)] for item in calc_stats]\n",
    "    end = time.time()\n",
    "    working_time = end-start\n",
    "    return product_stats,working_time,tag"
   ]
  },
  {
   "cell_type": "markdown",
   "metadata": {},
   "source": [
    "## 05a. Numpy function (nested loops)"
   ]
  },
  {
   "cell_type": "code",
   "execution_count": 9,
   "metadata": {
    "collapsed": true,
    "jupyter": {
     "outputs_hidden": true
    }
   },
   "outputs": [],
   "source": [
    "def gen_stats_numpy1(dataset_python):\n",
    "    start = time.time()\n",
    "    tag = 'Numpy (\"nested loops\")'\n",
    "    dataset_numpy = np.array(dataset_python)\n",
    "    product_stats = []\n",
    "    for product_id in np.nditer(np.unique(dataset_numpy[:,0]),op_dtypes=['float64']):\n",
    "        product_items = dataset_numpy[dataset_numpy[:,0] == product_id]\n",
    "        num_orders = product_items.shape[0]\n",
    "        total_quantity = product_items[:,2].sum()\n",
    "        avg_price = float(product_items[:,3].mean())\n",
    "        product_stats.append([int(product_id),int(num_orders),int(total_quantity),round(avg_price,2)])\n",
    "    end = time.time()\n",
    "    working_time = end-start\n",
    "    return product_stats,working_time,tag"
   ]
  },
  {
   "cell_type": "markdown",
   "metadata": {},
   "source": [
    "## 05b. Numpy function (array split)"
   ]
  },
  {
   "cell_type": "code",
   "execution_count": 10,
   "metadata": {
    "collapsed": true,
    "jupyter": {
     "outputs_hidden": true
    }
   },
   "outputs": [],
   "source": [
    "def gen_stats_numpy2(dataset_python):\n",
    "    start = time.time()\n",
    "    tag = 'Numpy (\"array split\")'\n",
    "    dataset_numpy = np.array(dataset_python)\n",
    "    unique_products,unique_indices = np.unique(dataset_numpy[:,0],return_index = True)\n",
    "    split = np.split(dataset_numpy,unique_indices)[1:]\n",
    "    product_stats = \\\n",
    "    [[int(item[0,0]),item.shape[0],int(np.sum(item[:,2])),float(np.round(np.sum(item[:,3])/item.shape[0],2))]\\\n",
    "     for item in split]\n",
    "    end = time.time()\n",
    "    working_time = end-start\n",
    "    return product_stats,working_time,tag"
   ]
  },
  {
   "cell_type": "markdown",
   "metadata": {},
   "source": [
    "## 06. Prepare function dispatcher"
   ]
  },
  {
   "cell_type": "code",
   "execution_count": 71,
   "metadata": {
    "collapsed": true,
    "jupyter": {
     "outputs_hidden": true
    }
   },
   "outputs": [],
   "source": [
    "dispatcher  = [gen_stats_python1,\n",
    "               gen_stats_python2,\n",
    "               gen_stats_python3,\n",
    "               gen_stats_pandas1,\n",
    "               gen_stats_pandas2,\n",
    "               gen_stats_numpy1,\n",
    "               gen_stats_numpy2]"
   ]
  },
  {
   "cell_type": "markdown",
   "metadata": {},
   "source": [
    "## 07. Check if all functions generate the same result"
   ]
  },
  {
   "cell_type": "code",
   "execution_count": 57,
   "metadata": {},
   "outputs": [
    {
     "ename": "KeyboardInterrupt",
     "evalue": "",
     "output_type": "error",
     "traceback": [
      "\u001b[0;31m---------------------------------------------------------------------------\u001b[0m",
      "\u001b[0;31mKeyboardInterrupt\u001b[0m                         Traceback (most recent call last)",
      "\u001b[0;32m<ipython-input-57-46390c66690e>\u001b[0m in \u001b[0;36m<module>\u001b[0;34m()\u001b[0m\n\u001b[1;32m      3\u001b[0m \u001b[0mprev_result\u001b[0m \u001b[0;34m=\u001b[0m \u001b[0;32mNone\u001b[0m\u001b[0;34m\u001b[0m\u001b[0m\n\u001b[1;32m      4\u001b[0m \u001b[0;32mfor\u001b[0m \u001b[0mi\u001b[0m \u001b[0;32min\u001b[0m \u001b[0mdispatcher\u001b[0m\u001b[0;34m:\u001b[0m\u001b[0;34m\u001b[0m\u001b[0m\n\u001b[0;32m----> 5\u001b[0;31m     \u001b[0mresult\u001b[0m \u001b[0;34m=\u001b[0m \u001b[0mi\u001b[0m\u001b[0;34m(\u001b[0m\u001b[0mdataset_python\u001b[0m\u001b[0;34m)\u001b[0m\u001b[0;34m\u001b[0m\u001b[0m\n\u001b[0m\u001b[1;32m      6\u001b[0m     \u001b[0mtest_results\u001b[0m\u001b[0;34m.\u001b[0m\u001b[0mappend\u001b[0m\u001b[0;34m(\u001b[0m\u001b[0mresult\u001b[0m\u001b[0;34m)\u001b[0m\u001b[0;34m\u001b[0m\u001b[0m\n\u001b[1;32m      7\u001b[0m     \u001b[0;32mif\u001b[0m \u001b[0mprev_result\u001b[0m \u001b[0;34m==\u001b[0m \u001b[0;32mNone\u001b[0m\u001b[0;34m:\u001b[0m\u001b[0;34m\u001b[0m\u001b[0m\n",
      "\u001b[0;32m<ipython-input-54-3f2b0ebc6806>\u001b[0m in \u001b[0;36mgen_stats_python1\u001b[0;34m(dataset_python)\u001b[0m\n\u001b[1;32m      5\u001b[0m     \u001b[0munique_products\u001b[0m \u001b[0;34m=\u001b[0m \u001b[0mset\u001b[0m\u001b[0;34m(\u001b[0m\u001b[0;34m[\u001b[0m\u001b[0mx\u001b[0m\u001b[0;34m[\u001b[0m\u001b[0;36m0\u001b[0m\u001b[0;34m]\u001b[0m \u001b[0;32mfor\u001b[0m \u001b[0mx\u001b[0m \u001b[0;32min\u001b[0m \u001b[0mdataset_python\u001b[0m\u001b[0;34m]\u001b[0m\u001b[0;34m)\u001b[0m\u001b[0;34m\u001b[0m\u001b[0m\n\u001b[1;32m      6\u001b[0m     \u001b[0;32mfor\u001b[0m \u001b[0mproduct_id\u001b[0m \u001b[0;32min\u001b[0m \u001b[0munique_products\u001b[0m\u001b[0;34m:\u001b[0m\u001b[0;34m\u001b[0m\u001b[0m\n\u001b[0;32m----> 7\u001b[0;31m         \u001b[0mproduct_items\u001b[0m \u001b[0;34m=\u001b[0m \u001b[0;34m[\u001b[0m\u001b[0mx\u001b[0m \u001b[0;32mfor\u001b[0m \u001b[0mx\u001b[0m \u001b[0;32min\u001b[0m \u001b[0mdataset_python\u001b[0m \u001b[0;32mif\u001b[0m \u001b[0mx\u001b[0m\u001b[0;34m[\u001b[0m\u001b[0;36m0\u001b[0m\u001b[0;34m]\u001b[0m \u001b[0;34m==\u001b[0m \u001b[0mproduct_id\u001b[0m \u001b[0;34m]\u001b[0m\u001b[0;34m\u001b[0m\u001b[0m\n\u001b[0m\u001b[1;32m      8\u001b[0m         \u001b[0mnum_orders\u001b[0m \u001b[0;34m=\u001b[0m \u001b[0mlen\u001b[0m\u001b[0;34m(\u001b[0m\u001b[0mproduct_items\u001b[0m\u001b[0;34m)\u001b[0m\u001b[0;34m\u001b[0m\u001b[0m\n\u001b[1;32m      9\u001b[0m         \u001b[0mtotal_quantity\u001b[0m \u001b[0;34m=\u001b[0m \u001b[0;36m0\u001b[0m\u001b[0;34m\u001b[0m\u001b[0m\n",
      "\u001b[0;32m<ipython-input-54-3f2b0ebc6806>\u001b[0m in \u001b[0;36m<listcomp>\u001b[0;34m(.0)\u001b[0m\n\u001b[1;32m      5\u001b[0m     \u001b[0munique_products\u001b[0m \u001b[0;34m=\u001b[0m \u001b[0mset\u001b[0m\u001b[0;34m(\u001b[0m\u001b[0;34m[\u001b[0m\u001b[0mx\u001b[0m\u001b[0;34m[\u001b[0m\u001b[0;36m0\u001b[0m\u001b[0;34m]\u001b[0m \u001b[0;32mfor\u001b[0m \u001b[0mx\u001b[0m \u001b[0;32min\u001b[0m \u001b[0mdataset_python\u001b[0m\u001b[0;34m]\u001b[0m\u001b[0;34m)\u001b[0m\u001b[0;34m\u001b[0m\u001b[0m\n\u001b[1;32m      6\u001b[0m     \u001b[0;32mfor\u001b[0m \u001b[0mproduct_id\u001b[0m \u001b[0;32min\u001b[0m \u001b[0munique_products\u001b[0m\u001b[0;34m:\u001b[0m\u001b[0;34m\u001b[0m\u001b[0m\n\u001b[0;32m----> 7\u001b[0;31m         \u001b[0mproduct_items\u001b[0m \u001b[0;34m=\u001b[0m \u001b[0;34m[\u001b[0m\u001b[0mx\u001b[0m \u001b[0;32mfor\u001b[0m \u001b[0mx\u001b[0m \u001b[0;32min\u001b[0m \u001b[0mdataset_python\u001b[0m \u001b[0;32mif\u001b[0m \u001b[0mx\u001b[0m\u001b[0;34m[\u001b[0m\u001b[0;36m0\u001b[0m\u001b[0;34m]\u001b[0m \u001b[0;34m==\u001b[0m \u001b[0mproduct_id\u001b[0m \u001b[0;34m]\u001b[0m\u001b[0;34m\u001b[0m\u001b[0m\n\u001b[0m\u001b[1;32m      8\u001b[0m         \u001b[0mnum_orders\u001b[0m \u001b[0;34m=\u001b[0m \u001b[0mlen\u001b[0m\u001b[0;34m(\u001b[0m\u001b[0mproduct_items\u001b[0m\u001b[0;34m)\u001b[0m\u001b[0;34m\u001b[0m\u001b[0m\n\u001b[1;32m      9\u001b[0m         \u001b[0mtotal_quantity\u001b[0m \u001b[0;34m=\u001b[0m \u001b[0;36m0\u001b[0m\u001b[0;34m\u001b[0m\u001b[0m\n",
      "\u001b[0;31mKeyboardInterrupt\u001b[0m: "
     ]
    }
   ],
   "source": [
    "gc.collect()\n",
    "test_results = []\n",
    "prev_result = None\n",
    "for i in dispatcher:\n",
    "    result = i(dataset_python)\n",
    "    test_results.append(result)\n",
    "    if prev_result == None:\n",
    "        equal = None\n",
    "    else:\n",
    "        equal = (prev_result == result[0])\n",
    "    prev_result = result[0]\n",
    "    print (result[2],result[0][0:3],'equal : ',equal)"
   ]
  },
  {
   "cell_type": "code",
   "execution_count": 58,
   "metadata": {},
   "outputs": [
    {
     "data": {
      "text/plain": [
       "63"
      ]
     },
     "execution_count": 58,
     "metadata": {},
     "output_type": "execute_result"
    }
   ],
   "source": [
    "# clear memory\n",
    "del test_results \n",
    "gc.collect()"
   ]
  },
  {
   "cell_type": "markdown",
   "metadata": {},
   "source": [
    "## 08. Compare running time"
   ]
  },
  {
   "cell_type": "code",
   "execution_count": 59,
   "metadata": {
    "collapsed": true,
    "jupyter": {
     "outputs_hidden": true
    }
   },
   "outputs": [],
   "source": [
    "NUM_ITERATIONS = 1"
   ]
  },
  {
   "cell_type": "code",
   "execution_count": 72,
   "metadata": {},
   "outputs": [
    {
     "name": "stdout",
     "output_type": "stream",
     "text": [
      "Python (\"nested loops\") 106.14985823631287 sec\n",
      "Python (\"rolling sums\") 0.09078502655029297 sec\n",
      "Python (\"rolling sums\") 0.09452009201049805 sec\n",
      "Pandas (\"nested loops\") 11.903373956680298 sec\n",
      "Pandas (\"group/aggregate\") 0.1399831771850586 sec\n",
      "Numpy (\"nested loops\") 11.160401344299316 sec\n",
      "Numpy (\"array split\") 0.6070210933685303 sec\n"
     ]
    }
   ],
   "source": [
    "running_time = []\n",
    "for i in dispatcher:\n",
    "    gc.collect()\n",
    "    alg_time = []\n",
    "    for j in range (NUM_ITERATIONS):\n",
    "        result = i(dataset_python)\n",
    "        alg_time.append(result[1])\n",
    "    print (result[2],min(alg_time),'sec')\n",
    "    running_time.append ([result[2],min(alg_time)])"
   ]
  },
  {
   "cell_type": "markdown",
   "metadata": {},
   "source": [
    "## 09. Present results"
   ]
  },
  {
   "cell_type": "code",
   "execution_count": 61,
   "metadata": {
    "collapsed": true,
    "jupyter": {
     "outputs_hidden": true
    }
   },
   "outputs": [],
   "source": [
    "running_time = sorted(running_time, key=lambda item: item[1])\n",
    "base_time_1x = running_time[-1][1]"
   ]
  },
  {
   "cell_type": "code",
   "execution_count": 62,
   "metadata": {},
   "outputs": [
    {
     "data": {
      "image/png": "[encoded data removed]",
      "text/plain": [
       "<matplotlib.figure.Figure at 0x181578ec18>"
      ]
     },
     "metadata": {},
     "output_type": "display_data"
    }
   ],
   "source": [
    "plt.style.use('fivethirtyeight')\n",
    "objects = [x[0] for x in running_time]\n",
    "y_rng = np.arange(len(objects))\n",
    "performance = [base_time_1x/x[1] for x in running_time]\n",
    "plt.barh(y_rng, performance, align='center', alpha=0.5)\n",
    "plt.yticks(y_rng, objects)\n",
    "plt.xlabel('Processing speed for ~100k rows')\n",
    "plt.title('Data processing speed \\n( Python \"nested loops\" = 1x)')\n",
    "for a,b in zip(performance, y_rng):\n",
    "    plt.text(a, b, \"  \"+str(round(a,2))+\"x\")\n",
    "plt.show()"
   ]
  },
  {
   "cell_type": "code",
   "execution_count": null,
   "metadata": {
    "collapsed": true,
    "jupyter": {
     "outputs_hidden": true
    }
   },
   "outputs": [],
   "source": []
  }
 ],
 "metadata": {
  "kernelspec": {
   "display_name": "Python 3",
   "language": "python",
   "name": "python3"
  },
  "language_info": {
   "codemirror_mode": {
    "name": "ipython",
    "version": 3
   },
   "file_extension": ".py",
   "mimetype": "text/x-python",
   "name": "python",
   "nbconvert_exporter": "python",
   "pygments_lexer": "ipython3",
   "version": "3.7.3"
  },
  "toc": {
   "colors": {
    "hover_highlight": "#DAA520",
    "navigate_num": "#000000",
    "navigate_text": "#333333",
    "running_highlight": "#FF0000",
    "selected_highlight": "#FFD700",
    "sidebar_border": "#EEEEEE",
    "wrapper_background": "#FFFFFF"
   },
   "moveMenuLeft": true,
   "nav_menu": {
    "height": "261px",
    "width": "252px"
   },
   "navigate_menu": true,
   "number_sections": true,
   "sideBar": true,
   "threshold": 4,
   "toc_cell": false,
   "toc_section_display": "block",
   "toc_window_display": true,
   "widenNotebook": false
  }
 },
 "nbformat": 4,
 "nbformat_minor": 4
}
