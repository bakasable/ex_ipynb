{
 "cells": [
  {
   "cell_type": "code",
   "execution_count": 53,
   "metadata": {},
   "outputs": [],
   "source": [
    "import pandas as pd\n",
    "import xarray as xr\n",
    "from xarray import (DataArray, Dataset)\n",
    "\n",
    "from pandas.plotting import register_matplotlib_converters\n",
    "register_matplotlib_converters()"
   ]
  },
  {
   "cell_type": "code",
   "execution_count": 8,
   "metadata": {},
   "outputs": [],
   "source": [
    "ds = xr.open_dataset('../data/saildrone-gen_5-antarctica_circumnavigation_2019-sd1020-20190119T040000-20190803T043000-1_minutes-v1.1564884498845.nc')"
   ]
  },
  {
   "cell_type": "code",
   "execution_count": 77,
   "metadata": {},
   "outputs": [
    {
     "data": {
      "text/plain": [
       "<xarray.Dataset>\n",
       "Dimensions:                        (obs: 248525, trajectory: 1)\n",
       "Coordinates:\n",
       "  * trajectory                     (trajectory) float32 1020.0\n",
       "    time                           (trajectory, obs) datetime64[ns] 2019-01-19T04:00:00 ... 2019-08-03T04:30:00\n",
       "    latitude                       (trajectory, obs) float64 -46.68 ... -46.6\n",
       "    longitude                      (trajectory, obs) float64 ...\n",
       "Dimensions without coordinates: obs\n",
       "Data variables:\n",
       "    SOG                            (trajectory, obs) float64 ...\n",
       "    COG                            (trajectory, obs) float64 ...\n",
       "    HDG                            (trajectory, obs) float64 ...\n",
       "    HDG_WING                       (trajectory, obs) float64 ...\n",
       "    ROLL                           (trajectory, obs) float64 ...\n",
       "    PITCH                          (trajectory, obs) float64 ...\n",
       "    WING_ANGLE                     (trajectory, obs) float64 ...\n",
       "    BARO_PRES_MEAN                 (trajectory, obs) float64 990.8 nan ... 993.4\n",
       "    BARO_PRES_STDDEV               (trajectory, obs) float64 ...\n",
       "    TEMP_AIR_MEAN                  (trajectory, obs) float64 ...\n",
       "    TEMP_AIR_STDDEV                (trajectory, obs) float64 ...\n",
       "    RH_MEAN                        (trajectory, obs) float64 ...\n",
       "    RH_STDDEV                      (trajectory, obs) float64 ...\n",
       "    PAR_AIR_MEAN                   (trajectory, obs) float64 ...\n",
       "    PAR_AIR_STDDEV                 (trajectory, obs) float64 ...\n",
       "    TEMP_IR_UNCOR_MEAN             (trajectory, obs) float64 ...\n",
       "    TEMP_IR_UNCOR_STDDEV           (trajectory, obs) float64 ...\n",
       "    UWND_MEAN                      (trajectory, obs) float64 ...\n",
       "    UWND_STDDEV                    (trajectory, obs) float64 ...\n",
       "    VWND_MEAN                      (trajectory, obs) float64 ...\n",
       "    VWND_STDDEV                    (trajectory, obs) float64 ...\n",
       "    WWND_MEAN                      (trajectory, obs) float64 ...\n",
       "    WWND_STDDEV                    (trajectory, obs) float64 ...\n",
       "    GUST_WND_MEAN                  (trajectory, obs) float64 ...\n",
       "    GUST_WND_STDDEV                (trajectory, obs) float64 ...\n",
       "    TEMP_CTD_MEAN                  (trajectory, obs) float64 ...\n",
       "    TEMP_CTD_STDDEV                (trajectory, obs) float64 ...\n",
       "    COND_MEAN                      (trajectory, obs) float64 ...\n",
       "    COND_STDDEV                    (trajectory, obs) float64 ...\n",
       "    SAL_MEAN                       (trajectory, obs) float64 ...\n",
       "    SAL_STDDEV                     (trajectory, obs) float64 ...\n",
       "    O2_RBR_CONC_MEAN               (trajectory, obs) float64 ...\n",
       "    O2_RBR_CONC_STDDEV             (trajectory, obs) float64 ...\n",
       "    O2_RBR_SAT_MEAN                (trajectory, obs) float64 ...\n",
       "    O2_RBR_SAT_STDDEV              (trajectory, obs) float64 ...\n",
       "    TEMP_O2_RBR_MEAN               (trajectory, obs) float64 ...\n",
       "    TEMP_O2_RBR_STDDEV             (trajectory, obs) float64 ...\n",
       "    O2_AANDERAA_CONC_UNCOR_MEAN    (trajectory, obs) float64 ...\n",
       "    O2_AANDERAA_CONC_UNCOR_STDDEV  (trajectory, obs) float64 ...\n",
       "    O2_AANDERAA_SAT_MEAN           (trajectory, obs) float64 ...\n",
       "    O2_AANDERAA_SAT_STDDEV         (trajectory, obs) float64 ...\n",
       "    TEMP_O2_AANDERAA_MEAN          (trajectory, obs) float64 ...\n",
       "    TEMP_O2_AANDERAA_STDDEV        (trajectory, obs) float64 ...\n",
       "    CHLOR_MEAN                     (trajectory, obs) float64 ...\n",
       "    CHLOR_STDDEV                   (trajectory, obs) float64 ...\n",
       "Attributes:\n",
       "    title:                     Antarctica Circumnavigation Surface Data\n",
       "    license:                   2019 © SAILDRONE Inc.  All Rights Reserved.  T...\n",
       "    wmo_id:                    4803902\n",
       "    ncei_template_version:     NCEI_NetCDF_Trajectory_Template_v2.0\n",
       "    Conventions:               CF-1.6, ACDD-1.3\n",
       "    netcdf_version:            4.4.1.1\n",
       "    featureType:               trajectory\n",
       "    cdm_data_type:             Trajectory\n",
       "    standard_name_vocabulary:  CF Standard Name Table v58\n",
       "    description:               Saildrone NetCDF Format\n",
       "    creator_name:              Saildrone\n",
       "    platform:                  Saildrone\n",
       "    institution:               Saildrone\n",
       "    creator_email:             support@saildrone.com\n",
       "    creator_url:               http://saildrone.com/\n",
       "    date_created:              2019-08-03T19:10:55.100403Z\n",
       "    interval:                  60.0\n",
       "    time_coverage_resolution:  PT1M\n",
       "    time_coverage_start:       2019-01-19T04:00:00.000000Z\n",
       "    time_coverage_end:         2019-08-03T04:30:00.000000Z\n",
       "    time_coverage_duration:    P196DT30M\n",
       "    area:                      Southern Ocean\n",
       "    data_mode:                 realtime\n",
       "    drone_id:                  1020\n",
       "    id:                        43797\n",
       "    naming_authority:          com.saildrone\n",
       "    uuid:                      91c12ae3-3637-4934-bd4e-e00693435f74\n",
       "    project:                   antarctica_circumnavigation_2019\n",
       "    geospatial_lat_min:        -60.9862208\n",
       "    geospatial_lat_max:        -46.4277568\n",
       "    geospatial_lat_units:      degrees_north\n",
       "    geospatial_lon_min:        -179.9986816\n",
       "    geospatial_lon_max:        179.9997312\n",
       "    geospatial_lon_units:      degrees_east\n",
       "    summary:                   This data set was collected from the first Sai..."
      ]
     },
     "execution_count": 77,
     "metadata": {},
     "output_type": "execute_result"
    }
   ],
   "source": [
    "ds"
   ]
  },
  {
   "cell_type": "code",
   "execution_count": 52,
   "metadata": {},
   "outputs": [
    {
     "data": {
      "text/plain": [
       "<xarray.DataArray 'BARO_PRES_MEAN' (trajectory: 1, obs: 248525)>\n",
       "array([[990.8 ,    nan,    nan, ..., 993.4 , 993.38, 993.35]])\n",
       "Coordinates:\n",
       "  * trajectory  (trajectory) float32 1020.0\n",
       "    time        (trajectory, obs) datetime64[ns] 2019-01-19T04:00:00 ... 2019-08-03T04:30:00\n",
       "    latitude    (trajectory, obs) float64 -46.68 -46.68 -46.68 ... -46.6 -46.6\n",
       "    longitude   (trajectory, obs) float64 ...\n",
       "Dimensions without coordinates: obs\n",
       "Attributes:\n",
       "    standard_name:              air_pressure\n",
       "    long_name:                  Air pressure\n",
       "    units:                      hPa\n",
       "    last_calibrated:            2017-05-01\n",
       "    update_period:              1000\n",
       "    model_product_page:         http://www.vaisala.com/en/products/pressure/P...\n",
       "    device_name:                Vaisala Barometer (N1620310)\n",
       "    installed_date:             2018-06-07T22:25:20.595362Z\n",
       "    nominal_sampling_schedule:  60s on, 240s off, centered at :00\n",
       "    installed_height:           0.2\n",
       "    serial_number:              N1620310\n",
       "    vendor_name:                Vaisala\n",
       "    model_name:                 PTB210"
      ]
     },
     "execution_count": 52,
     "metadata": {},
     "output_type": "execute_result"
    }
   ],
   "source": [
    "ds.BARO_PRES_MEAN"
   ]
  },
  {
   "cell_type": "code",
   "execution_count": 71,
   "metadata": {},
   "outputs": [
    {
     "data": {
      "text/plain": [
       "Frozen(SortedKeysDict({'trajectory': 1, 'obs': 248525}))"
      ]
     },
     "execution_count": 71,
     "metadata": {},
     "output_type": "execute_result"
    }
   ],
   "source": [
    "ds.dims"
   ]
  },
  {
   "cell_type": "code",
   "execution_count": 72,
   "metadata": {},
   "outputs": [
    {
     "data": {
      "text/plain": [
       "Coordinates:\n",
       "  * trajectory  (trajectory) float32 1020.0\n",
       "    time        (trajectory, obs) datetime64[ns] 2019-01-19T04:00:00 ... 2019-08-03T04:30:00\n",
       "    latitude    (trajectory, obs) float64 -46.68 -46.68 -46.68 ... -46.6 -46.6\n",
       "    longitude   (trajectory, obs) float64 ..."
      ]
     },
     "execution_count": 72,
     "metadata": {},
     "output_type": "execute_result"
    }
   ],
   "source": [
    "ds.coords"
   ]
  },
  {
   "cell_type": "code",
   "execution_count": 45,
   "metadata": {},
   "outputs": [
    {
     "data": {
      "text/plain": [
       "[<matplotlib.lines.Line2D at 0x7f09db777518>]"
      ]
     },
     "execution_count": 45,
     "metadata": {},
     "output_type": "execute_result"
    },
    {
     "data": {
      "image/png": "[encoded data removed]",
      "text/plain": [
       "<Figure size 432x288 with 1 Axes>"
      ]
     },
     "metadata": {
      "needs_background": "light"
     },
     "output_type": "display_data"
    }
   ],
   "source": [
    "ds.BARO_PRES_MEAN['time'].plot(y='latitude')\n",
    "ds.BARO_PRES_MEAN['time'].plot(y='longitude')"
   ]
  },
  {
   "cell_type": "code",
   "execution_count": 44,
   "metadata": {},
   "outputs": [
    {
     "data": {
      "text/html": [
       "<div>\n",
       "<style scoped>\n",
       "    .dataframe tbody tr th:only-of-type {\n",
       "        vertical-align: middle;\n",
       "    }\n",
       "\n",
       "    .dataframe tbody tr th {\n",
       "        vertical-align: top;\n",
       "    }\n",
       "\n",
       "    .dataframe thead th {\n",
       "        text-align: right;\n",
       "    }\n",
       "</style>\n",
       "<table border=\"1\" class=\"dataframe\">\n",
       "  <thead>\n",
       "    <tr style=\"text-align: right;\">\n",
       "      <th>obs</th>\n",
       "      <th>0</th>\n",
       "      <th>1</th>\n",
       "      <th>2</th>\n",
       "      <th>3</th>\n",
       "      <th>4</th>\n",
       "      <th>5</th>\n",
       "      <th>6</th>\n",
       "      <th>7</th>\n",
       "      <th>8</th>\n",
       "      <th>9</th>\n",
       "      <th>...</th>\n",
       "      <th>248515</th>\n",
       "      <th>248516</th>\n",
       "      <th>248517</th>\n",
       "      <th>248518</th>\n",
       "      <th>248519</th>\n",
       "      <th>248520</th>\n",
       "      <th>248521</th>\n",
       "      <th>248522</th>\n",
       "      <th>248523</th>\n",
       "      <th>248524</th>\n",
       "    </tr>\n",
       "    <tr>\n",
       "      <th>trajectory</th>\n",
       "      <th></th>\n",
       "      <th></th>\n",
       "      <th></th>\n",
       "      <th></th>\n",
       "      <th></th>\n",
       "      <th></th>\n",
       "      <th></th>\n",
       "      <th></th>\n",
       "      <th></th>\n",
       "      <th></th>\n",
       "      <th></th>\n",
       "      <th></th>\n",
       "      <th></th>\n",
       "      <th></th>\n",
       "      <th></th>\n",
       "      <th></th>\n",
       "      <th></th>\n",
       "      <th></th>\n",
       "      <th></th>\n",
       "      <th></th>\n",
       "      <th></th>\n",
       "    </tr>\n",
       "  </thead>\n",
       "  <tbody>\n",
       "    <tr>\n",
       "      <th>1020.0</th>\n",
       "      <td>990.8</td>\n",
       "      <td>NaN</td>\n",
       "      <td>NaN</td>\n",
       "      <td>NaN</td>\n",
       "      <td>NaN</td>\n",
       "      <td>990.52</td>\n",
       "      <td>NaN</td>\n",
       "      <td>NaN</td>\n",
       "      <td>NaN</td>\n",
       "      <td>NaN</td>\n",
       "      <td>...</td>\n",
       "      <td>993.87</td>\n",
       "      <td>993.8</td>\n",
       "      <td>993.76</td>\n",
       "      <td>993.77</td>\n",
       "      <td>993.67</td>\n",
       "      <td>993.59</td>\n",
       "      <td>993.49</td>\n",
       "      <td>993.4</td>\n",
       "      <td>993.38</td>\n",
       "      <td>993.35</td>\n",
       "    </tr>\n",
       "  </tbody>\n",
       "</table>\n",
       "<p>1 rows × 248525 columns</p>\n",
       "</div>"
      ],
      "text/plain": [
       "obs         0       1       2       3       4       5       6       7       \\\n",
       "trajectory                                                                   \n",
       "1020.0       990.8     NaN     NaN     NaN     NaN  990.52     NaN     NaN   \n",
       "\n",
       "obs         8       9       ...  248515  248516  248517  248518  248519  \\\n",
       "trajectory                  ...                                           \n",
       "1020.0         NaN     NaN  ...  993.87   993.8  993.76  993.77  993.67   \n",
       "\n",
       "obs         248520  248521  248522  248523  248524  \n",
       "trajectory                                          \n",
       "1020.0      993.59  993.49   993.4  993.38  993.35  \n",
       "\n",
       "[1 rows x 248525 columns]"
      ]
     },
     "execution_count": 44,
     "metadata": {},
     "output_type": "execute_result"
    }
   ],
   "source": [
    "ds.BARO_PRES_MEAN.to_pandas()"
   ]
  },
  {
   "cell_type": "code",
   "execution_count": 18,
   "metadata": {},
   "outputs": [
    {
     "ename": "TypeError",
     "evalue": "__call__() takes 1 positional argument but 2 were given",
     "output_type": "error",
     "traceback": [
      "\u001b[0;31m---------------------------------------------------------------------------\u001b[0m",
      "\u001b[0;31mTypeError\u001b[0m                                 Traceback (most recent call last)",
      "\u001b[0;32m<ipython-input-18-a06fe2d308fc>\u001b[0m in \u001b[0;36m<module>\u001b[0;34m\u001b[0m\n\u001b[0;32m----> 1\u001b[0;31m \u001b[0mds\u001b[0m\u001b[0;34m.\u001b[0m\u001b[0mlatitude\u001b[0m\u001b[0;34m.\u001b[0m\u001b[0mplot\u001b[0m\u001b[0;34m(\u001b[0m\u001b[0;34m'latitude'\u001b[0m\u001b[0;34m,\u001b[0m \u001b[0mx\u001b[0m\u001b[0;34m=\u001b[0m\u001b[0;34m'time'\u001b[0m\u001b[0;34m)\u001b[0m\u001b[0;34m\u001b[0m\u001b[0;34m\u001b[0m\u001b[0m\n\u001b[0m",
      "\u001b[0;31mTypeError\u001b[0m: __call__() takes 1 positional argument but 2 were given"
     ]
    }
   ],
   "source": [
    "ds.latitude.plot('latitude', x='time')"
   ]
  },
  {
   "cell_type": "code",
   "execution_count": 19,
   "metadata": {},
   "outputs": [
    {
     "data": {
      "text/plain": [
       "\u001b[0;31mType:\u001b[0m        property\n",
       "\u001b[0;31mString form:\u001b[0m <property object at 0x7f09ea2833b8>\n",
       "\u001b[0;31mDocstring:\u001b[0m  \n",
       "Access plotting functions\n",
       "\n",
       ">>> d = DataArray([[1, 2], [3, 4]])\n",
       "\n",
       "For convenience just call this directly\n",
       ">>> d.plot()\n",
       "\n",
       "Or use it as a namespace to use xarray.plot functions as\n",
       "DataArray methods\n",
       ">>> d.plot.imshow()  # equivalent to xarray.plot.imshow(d)\n"
      ]
     },
     "metadata": {},
     "output_type": "display_data"
    }
   ],
   "source": [
    "ds.latitude.plot?"
   ]
  },
  {
   "cell_type": "code",
   "execution_count": 63,
   "metadata": {},
   "outputs": [],
   "source": [
    "import numpy as np\n",
    "import pandas as pd\n",
    "from pandas.util.testing import makeDataFrame\n"
   ]
  },
  {
   "cell_type": "code",
   "execution_count": 65,
   "metadata": {},
   "outputs": [],
   "source": [
    "df = makeDataFrame()\n",
    "df.A *= 10"
   ]
  },
  {
   "cell_type": "code",
   "execution_count": 67,
   "metadata": {},
   "outputs": [],
   "source": [
    "df = df.astype({\"A\": np.int64})"
   ]
  },
  {
   "cell_type": "code",
   "execution_count": 69,
   "metadata": {},
   "outputs": [],
   "source": [
    "da = DataArray(df)"
   ]
  },
  {
   "cell_type": "code",
   "execution_count": 70,
   "metadata": {},
   "outputs": [
    {
     "data": {
      "text/plain": [
       "<xarray.DataArray (dim_0: 30, dim_1: 4)>\n",
       "array([[-1.000000e+00, -4.485478e-01,  1.452463e+00,  2.245895e-01],\n",
       "       [-1.400000e+01, -2.424199e+00, -1.150374e+00,  1.104676e+00],\n",
       "       [ 1.000000e+00,  7.536484e-01,  1.129531e+00,  8.139459e-01],\n",
       "       [-1.100000e+01, -3.793550e-01,  6.104660e-01,  7.482727e-01],\n",
       "       [-6.000000e+00,  2.562873e-01, -5.540254e-01, -1.932212e+00],\n",
       "       [-5.000000e+00,  1.948008e+00, -1.910482e+00, -8.940708e-01],\n",
       "       [ 5.000000e+00,  1.440755e-01, -8.332134e-01,  8.702863e-01],\n",
       "       [ 0.000000e+00, -2.405920e-01,  8.477903e-01,  5.570034e-03],\n",
       "       [-7.000000e+00, -1.996646e-01,  5.516588e-02,  1.953918e+00],\n",
       "       [-1.900000e+01,  7.422989e-01, -7.196317e-01,  1.645685e+00],\n",
       "       [-5.000000e+00,  7.843327e-01,  1.334695e+00, -4.431047e-01],\n",
       "       [-9.000000e+00, -7.159558e-01, -7.844648e-01, -1.560062e+00],\n",
       "       [-6.000000e+00,  8.896105e-01, -2.522873e-01,  6.550210e-01],\n",
       "       [ 3.000000e+00,  1.753492e-01,  1.039633e+00,  2.237218e-01],\n",
       "       [-3.000000e+00, -8.204055e-01,  9.769056e-01,  1.961208e+00],\n",
       "       [ 1.400000e+01,  1.154930e+00, -4.400707e-01,  6.076897e-01],\n",
       "       [-1.800000e+01,  1.098207e+00,  4.564586e-01, -3.626366e-01],\n",
       "       [-4.000000e+00,  1.558827e+00,  1.514310e+00, -1.623898e+00],\n",
       "       [-1.000000e+01,  9.313326e-01, -1.123253e+00,  2.286683e-01],\n",
       "       [ 1.500000e+01,  1.491642e+00, -5.338902e-01,  4.834766e-01],\n",
       "       [ 1.200000e+01,  8.453236e-01, -3.878812e-01, -1.978685e+00],\n",
       "       [-2.800000e+01,  5.326083e-01,  3.261088e-01, -2.568571e+00],\n",
       "       [ 0.000000e+00,  4.071743e-01,  6.968127e-01, -1.293753e+00],\n",
       "       [-2.700000e+01, -1.119621e+00,  4.974501e-01, -9.456817e-01],\n",
       "       [ 8.000000e+00, -7.650066e-01, -4.022034e-01,  9.739528e-01],\n",
       "       [-3.000000e+00, -5.669889e-01,  2.344154e-01,  1.709607e+00],\n",
       "       [-1.000000e+00,  5.811488e-01, -4.295173e-01, -9.196839e-01],\n",
       "       [ 0.000000e+00,  6.387637e-01, -7.987699e-01,  1.358097e+00],\n",
       "       [ 7.000000e+00,  1.493265e-01,  7.306577e-01, -2.307375e+00],\n",
       "       [-7.000000e+00, -1.138418e+00,  6.251832e-01, -7.290075e-01]])\n",
       "Coordinates:\n",
       "  * dim_0    (dim_0) object 'OCk8b7tK5p' 'RDhAvTgmoa' ... 'P4UC9NtPxn'\n",
       "  * dim_1    (dim_1) object 'A' 'B' 'C' 'D'"
      ]
     },
     "execution_count": 70,
     "metadata": {},
     "output_type": "execute_result"
    }
   ],
   "source": [
    "da"
   ]
  },
  {
   "cell_type": "code",
   "execution_count": null,
   "metadata": {},
   "outputs": [],
   "source": []
  }
 ],
 "metadata": {
  "kernelspec": {
   "display_name": "Python 3",
   "language": "python",
   "name": "python3"
  },
  "language_info": {
   "codemirror_mode": {
    "name": "ipython",
    "version": 3
   },
   "file_extension": ".py",
   "mimetype": "text/x-python",
   "name": "python",
   "nbconvert_exporter": "python",
   "pygments_lexer": "ipython3",
   "version": "3.7.3"
  }
 },
 "nbformat": 4,
 "nbformat_minor": 4
}
