{
 "cells": [
  {
   "cell_type": "code",
   "execution_count": 1,
   "metadata": {},
   "outputs": [],
   "source": [
    "from IPython.display import Javascript"
   ]
  },
  {
   "cell_type": "markdown",
   "metadata": {},
   "source": [
    "Embedding google trends in Jupyter: usage of `renderExploreWidgetTo` with parameter *element* as first parameter instead of `renderExploreWidget`.\n",
    "\n",
    "For explanation on *element*, see stackoverflow topic [54963230](https://stackoverflow.com/questions/54963230)"
   ]
  },
  {
   "cell_type": "code",
   "execution_count": 2,
   "metadata": {},
   "outputs": [],
   "source": [
    "jsCode = \"\"\"\n",
    "trends.embed.renderExploreWidgetTo(\n",
    "    element,\n",
    "    \"TIMESERIES\", \n",
    "    {\n",
    "     \"comparisonItem\":[{\"keyword\":\"jupyter\",\n",
    "                        \"geo\":\"\",\n",
    "                        \"time\":\"today 5-y\"}],\n",
    "     \"category\":0,\n",
    "     \"property\":\"\"\n",
    "     });\n",
    "\"\"\""
   ]
  },
  {
   "cell_type": "code",
   "execution_count": 3,
   "metadata": {},
   "outputs": [
    {
     "data": {
      "application/javascript": [
       "new Promise(function(resolve, reject) {\n",
       "\tvar script = document.createElement(\"script\");\n",
       "\tscript.onload = resolve;\n",
       "\tscript.onerror = reject;\n",
       "\tscript.src = \"https://ssl.gstatic.com/trends_nrtr/1845_RC03/embed_loader.js\";\n",
       "\tdocument.head.appendChild(script);\n",
       "}).then(() => {\n",
       "\n",
       "trends.embed.renderExploreWidgetTo(\n",
       "    element,\n",
       "    \"TIMESERIES\", \n",
       "    {\n",
       "     \"comparisonItem\":[{\"keyword\":\"jupyter\",\n",
       "                        \"geo\":\"\",\n",
       "                        \"time\":\"today 5-y\"}],\n",
       "     \"category\":0,\n",
       "     \"property\":\"\"\n",
       "     });\n",
       "\n",
       "});"
      ],
      "text/plain": [
       "<IPython.core.display.Javascript object>"
      ]
     },
     "execution_count": 3,
     "metadata": {},
     "output_type": "execute_result"
    }
   ],
   "source": [
    "Javascript(data=jsCode,\n",
    "           lib=\"https://ssl.gstatic.com/trends_nrtr/1845_RC03/embed_loader.js\")"
   ]
  },
  {
   "cell_type": "markdown",
   "metadata": {},
   "source": [
    "# Kubernetes / Hadoop"
   ]
  },
  {
   "cell_type": "code",
   "execution_count": 4,
   "metadata": {},
   "outputs": [],
   "source": [
    "jsCode = '''\n",
    "var curday = function() {\n",
    "    today = new Date();\n",
    "    var dd = today.getDate();\n",
    "    var mm = today.getMonth()+1; //As January is 0.\n",
    "    var yyyy = today.getFullYear();\n",
    "\n",
    "    if(dd<10) dd='0'+dd;\n",
    "    if(mm<10) mm='0'+mm;\n",
    "    return (`${yyyy}-${mm}-${dd}`);\n",
    "};\n",
    "\n",
    "trends.embed.renderExploreWidgetTo(\n",
    "    element,\n",
    "    \"GEO_MAP_0\", \n",
    "    {\n",
    "     \"comparisonItem\":[{\"keyword\":\"/g/11b7lxp79d\",\n",
    "                        \"geo\":\"\",\n",
    "                        \"time\":\"2004-01-01 2019-08-09\"},\n",
    "                        {\"keyword\":\"/m/0fdjtq\",\n",
    "                        \"geo\":\"\",\n",
    "                        \"time\":`2004-01-01 2019-08-09`}],\n",
    "     \"category\":0,\n",
    "     \"property\":\"\"\n",
    "     });\n",
    "'''"
   ]
  },
  {
   "cell_type": "code",
   "execution_count": 5,
   "metadata": {},
   "outputs": [
    {
     "data": {
      "application/javascript": [
       "new Promise(function(resolve, reject) {\n",
       "\tvar script = document.createElement(\"script\");\n",
       "\tscript.onload = resolve;\n",
       "\tscript.onerror = reject;\n",
       "\tscript.src = \"https://ssl.gstatic.com/trends_nrtr/1845_RC03/embed_loader.js\";\n",
       "\tdocument.head.appendChild(script);\n",
       "}).then(() => {\n",
       "\n",
       "var curday = function() {\n",
       "    today = new Date();\n",
       "    var dd = today.getDate();\n",
       "    var mm = today.getMonth()+1; //As January is 0.\n",
       "    var yyyy = today.getFullYear();\n",
       "\n",
       "    if(dd<10) dd='0'+dd;\n",
       "    if(mm<10) mm='0'+mm;\n",
       "    return (`${yyyy}-${mm}-${dd}`);\n",
       "};\n",
       "\n",
       "trends.embed.renderExploreWidgetTo(\n",
       "    element,\n",
       "    \"GEO_MAP_0\", \n",
       "    {\n",
       "     \"comparisonItem\":[{\"keyword\":\"/g/11b7lxp79d\",\n",
       "                        \"geo\":\"\",\n",
       "                        \"time\":\"2004-01-01 2019-08-09\"},\n",
       "                        {\"keyword\":\"/m/0fdjtq\",\n",
       "                        \"geo\":\"\",\n",
       "                        \"time\":`2004-01-01 2019-08-09`}],\n",
       "     \"category\":0,\n",
       "     \"property\":\"\"\n",
       "     });\n",
       "\n",
       "});"
      ],
      "text/plain": [
       "<IPython.core.display.Javascript object>"
      ]
     },
     "execution_count": 5,
     "metadata": {},
     "output_type": "execute_result"
    }
   ],
   "source": [
    "Javascript(data=jsCode,\n",
    "           lib=\"https://ssl.gstatic.com/trends_nrtr/1845_RC03/embed_loader.js\")"
   ]
  }
 ],
 "metadata": {
  "kernelspec": {
   "display_name": "Python 3",
   "language": "python",
   "name": "python3"
  },
  "language_info": {
   "codemirror_mode": {
    "name": "ipython",
    "version": 3
   },
   "file_extension": ".py",
   "mimetype": "text/x-python",
   "name": "python",
   "nbconvert_exporter": "python",
   "pygments_lexer": "ipython3",
   "version": "3.7.3"
  }
 },
 "nbformat": 4,
 "nbformat_minor": 4
}
