{
 "cells": [
  {
   "cell_type": "markdown",
   "metadata": {},
   "source": [
    "Doc:\n",
    "- [spark-packages.org](https://spark-packages.org/package/mongodb/mongo-spark)"
   ]
  },
  {
   "cell_type": "code",
   "execution_count": 1,
   "metadata": {},
   "outputs": [],
   "source": [
    "%load_ext memory_profiler"
   ]
  },
  {
   "cell_type": "code",
   "execution_count": 2,
   "metadata": {},
   "outputs": [],
   "source": [
    "from pyspark.sql.session import SparkSession"
   ]
  },
  {
   "cell_type": "code",
   "execution_count": 34,
   "metadata": {},
   "outputs": [],
   "source": [
    "user = \"root\"\n",
    "password = \"secret\"\n",
    "host = \"db.mongo.app.com\"\n",
    "database = \"ds\"\n",
    "collection = \"s4gt6dd\"\n",
    "\n",
    "uri = f\"mongodb://{user}:{password}@{host}\""
   ]
  },
  {
   "cell_type": "code",
   "execution_count": 35,
   "metadata": {},
   "outputs": [
    {
     "name": "stdout",
     "output_type": "stream",
     "text": [
      "peak memory: 146.30 MiB, increment: 0.16 MiB\n"
     ]
    }
   ],
   "source": [
    "%%memit\n",
    "spark = SparkSession.builder \\\n",
    "    .master(\"local\") \\\n",
    "    .appName(\"SparkMongo\") \\\n",
    "    .config(\"spark.mongodb.input.uri\", uri) \\\n",
    "    .getOrCreate()"
   ]
  },
  {
   "cell_type": "markdown",
   "metadata": {},
   "source": [
    "sc = spark.sparkContext\n",
    "sc.setLogLevel(\"INFO\")"
   ]
  },
  {
   "cell_type": "code",
   "execution_count": 69,
   "metadata": {},
   "outputs": [],
   "source": [
    "from pymongo import MongoClient\n",
    "import bson\n",
    "from motor import MotorClient"
   ]
  },
  {
   "cell_type": "code",
   "execution_count": 71,
   "metadata": {},
   "outputs": [],
   "source": [
    "async_client = MotorClient(uri)"
   ]
  },
  {
   "cell_type": "code",
   "execution_count": 37,
   "metadata": {},
   "outputs": [],
   "source": [
    "client = MongoClient(uri)"
   ]
  },
  {
   "cell_type": "code",
   "execution_count": 38,
   "metadata": {},
   "outputs": [
    {
     "data": {
      "text/plain": [
       "MongoClient(host=['db.mongo.app.com:27017'], document_class=dict, tz_aware=False, connect=True)"
      ]
     },
     "execution_count": 38,
     "metadata": {},
     "output_type": "execute_result"
    }
   ],
   "source": [
    "client"
   ]
  },
  {
   "cell_type": "markdown",
   "metadata": {},
   "source": [
    "`Cursor`: class to iterate over Mongo query results."
   ]
  },
  {
   "cell_type": "code",
   "execution_count": 100,
   "metadata": {},
   "outputs": [],
   "source": [
    "cursor = client.sc.s4gt6dd.find({})"
   ]
  },
  {
   "cell_type": "code",
   "execution_count": 103,
   "metadata": {},
   "outputs": [
    {
     "data": {
      "text/plain": [
       "3"
      ]
     },
     "execution_count": 103,
     "metadata": {},
     "output_type": "execute_result"
    }
   ],
   "source": [
    "client.sc.s4gt6dd.count_documents({})"
   ]
  },
  {
   "cell_type": "code",
   "execution_count": 101,
   "metadata": {},
   "outputs": [
    {
     "data": {
      "text/plain": [
       "<pymongo.cursor.Cursor at 0x7fc04fd0b860>"
      ]
     },
     "execution_count": 101,
     "metadata": {},
     "output_type": "execute_result"
    }
   ],
   "source": [
    "cursor.batch_size(20)"
   ]
  },
  {
   "cell_type": "code",
   "execution_count": 113,
   "metadata": {},
   "outputs": [
    {
     "data": {
      "text/plain": [
       "<pymongo.cursor.Cursor at 0x7fc04fd0b860>"
      ]
     },
     "execution_count": 113,
     "metadata": {},
     "output_type": "execute_result"
    }
   ],
   "source": [
    "cursor.rewind()"
   ]
  },
  {
   "cell_type": "code",
   "execution_count": 114,
   "metadata": {},
   "outputs": [
    {
     "data": {
      "text/plain": [
       "{'_id': ObjectId('5d56fbe4ac21aa7abd9ca027')}"
      ]
     },
     "execution_count": 114,
     "metadata": {},
     "output_type": "execute_result"
    }
   ],
   "source": [
    "cursor.next()"
   ]
  },
  {
   "cell_type": "code",
   "execution_count": 66,
   "metadata": {},
   "outputs": [
    {
     "data": {
      "text/plain": [
       "<pymongo.results.InsertOneResult at 0x7fc04f7d5848>"
      ]
     },
     "execution_count": 66,
     "metadata": {},
     "output_type": "execute_result"
    }
   ],
   "source": [
    "client.sc.s4gt6dd.insert_one(bson.SON())"
   ]
  },
  {
   "cell_type": "code",
   "execution_count": 74,
   "metadata": {},
   "outputs": [],
   "source": [
    "fut = async_client.sc.s4gt6dd.insert_one(bson.SON())"
   ]
  },
  {
   "cell_type": "code",
   "execution_count": 76,
   "metadata": {},
   "outputs": [
    {
     "data": {
      "text/plain": [
       "True"
      ]
     },
     "execution_count": 76,
     "metadata": {},
     "output_type": "execute_result"
    }
   ],
   "source": [
    "fut.done()"
   ]
  },
  {
   "cell_type": "code",
   "execution_count": 65,
   "metadata": {},
   "outputs": [],
   "source": [
    "elt = bson.SON()"
   ]
  },
  {
   "cell_type": "code",
   "execution_count": 77,
   "metadata": {},
   "outputs": [],
   "source": [
    "elt[\"a\"] = bson.int64.Int64(12)"
   ]
  },
  {
   "cell_type": "code",
   "execution_count": 78,
   "metadata": {},
   "outputs": [
    {
     "data": {
      "text/plain": [
       "SON([('a', 12)])"
      ]
     },
     "execution_count": 78,
     "metadata": {},
     "output_type": "execute_result"
    }
   ],
   "source": [
    "elt"
   ]
  },
  {
   "cell_type": "code",
   "execution_count": 81,
   "metadata": {},
   "outputs": [
    {
     "data": {
      "text/plain": [
       "\u001b[0;31mType:\u001b[0m        SON\n",
       "\u001b[0;31mString form:\u001b[0m SON([('a', 12)])\n",
       "\u001b[0;31mLength:\u001b[0m      1\n",
       "\u001b[0;31mFile:\u001b[0m        /opt/conda/lib/python3.7/site-packages/bson/son.py\n",
       "\u001b[0;31mDocstring:\u001b[0m  \n",
       "SON data.\n",
       "\n",
       "A subclass of dict that maintains ordering of keys and provides a\n",
       "few extra niceties for dealing with SON. SON provides an API\n",
       "similar to collections.OrderedDict from Python 2.7+.\n"
      ]
     },
     "metadata": {},
     "output_type": "display_data"
    }
   ],
   "source": [
    "elt?"
   ]
  },
  {
   "cell_type": "code",
   "execution_count": 64,
   "metadata": {},
   "outputs": [],
   "source": [
    "elt = bson.BSON()"
   ]
  },
  {
   "cell_type": "code",
   "execution_count": null,
   "metadata": {},
   "outputs": [],
   "source": []
  },
  {
   "cell_type": "code",
   "execution_count": 67,
   "metadata": {},
   "outputs": [
    {
     "data": {
      "text/plain": [
       "['admin',\n",
       " 'config',\n",
       " 'local',\n",
       " 'people-bson',\n",
       " 'saildrone',\n",
       " 'sc',\n",
       " 'starwars',\n",
       " 'test']"
      ]
     },
     "execution_count": 67,
     "metadata": {},
     "output_type": "execute_result"
    }
   ],
   "source": [
    "client.list_database_names()"
   ]
  },
  {
   "cell_type": "markdown",
   "metadata": {},
   "source": [
    "https://docs.mongodb.com/spark-connector/master/python/filters-and-sql/"
   ]
  },
  {
   "cell_type": "markdown",
   "metadata": {},
   "source": [
    "# DB initialisation"
   ]
  },
  {
   "cell_type": "code",
   "execution_count": 119,
   "metadata": {},
   "outputs": [],
   "source": [
    "from bson import SON, Int64, Binary, Decimal128\n",
    "from datetime import datetime"
   ]
  },
  {
   "cell_type": "code",
   "execution_count": 151,
   "metadata": {},
   "outputs": [],
   "source": [
    "elt = SON()\n",
    "\n",
    "elt[\"time\"] = datetime(2019, 1, 9, 13, 34, 23)\n",
    "elt[\"elt1\"] = {\"name\": \"elt1\", \"unit\": \"unit1\", \"data\": Int64(34)}\n",
    "elt[\"elt2\"] = 34\n",
    "elt[\"elt3\"] = float(4.3)\n",
    "elt[\"elt4\"] = 4.3\n",
    "elt[\"elt5\"] = Binary(b'azddqds')\n",
    "elt[\"elt6\"] = [1, 2, 3.4, 4, 5]"
   ]
  },
  {
   "cell_type": "code",
   "execution_count": 152,
   "metadata": {},
   "outputs": [
    {
     "data": {
      "text/plain": [
       "<pymongo.results.InsertOneResult at 0x7fc04c6fc088>"
      ]
     },
     "execution_count": 152,
     "metadata": {},
     "output_type": "execute_result"
    }
   ],
   "source": [
    "client.sc.s4gt6dd.insert_one(elt)"
   ]
  },
  {
   "cell_type": "code",
   "execution_count": 153,
   "metadata": {},
   "outputs": [
    {
     "ename": "SyntaxError",
     "evalue": "invalid syntax (<ipython-input-153-aa4d2e851f66>, line 1)",
     "output_type": "error",
     "traceback": [
      "\u001b[0;36m  File \u001b[0;32m\"<ipython-input-153-aa4d2e851f66>\"\u001b[0;36m, line \u001b[0;32m1\u001b[0m\n\u001b[0;31m    client.\u001b[0m\n\u001b[0m           ^\u001b[0m\n\u001b[0;31mSyntaxError\u001b[0m\u001b[0;31m:\u001b[0m invalid syntax\n"
     ]
    }
   ],
   "source": [
    "client."
   ]
  },
  {
   "cell_type": "code",
   "execution_count": 144,
   "metadata": {},
   "outputs": [
    {
     "ename": "SyntaxError",
     "evalue": "invalid syntax (<ipython-input-144-22e873ec34d5>, line 3)",
     "output_type": "error",
     "traceback": [
      "\u001b[0;36m  File \u001b[0;32m\"<ipython-input-144-22e873ec34d5>\"\u001b[0;36m, line \u001b[0;32m3\u001b[0m\n\u001b[0;31m    {\u001b[0m\n\u001b[0m    ^\u001b[0m\n\u001b[0;31mSyntaxError\u001b[0m\u001b[0;31m:\u001b[0m invalid syntax\n"
     ]
    }
   ],
   "source": [
    "client.system.js.save( { _id : \"Sum\" ,\n",
    "value : function(key,values)\n",
    "{\n",
    "    var total = 0;\n",
    "    for(var i = 0; i < values.length; i++)\n",
    "        total += values[i];\n",
    "    return total;\n",
    "}});"
   ]
  },
  {
   "cell_type": "code",
   "execution_count": 154,
   "metadata": {},
   "outputs": [
    {
     "name": "stdout",
     "output_type": "stream",
     "text": [
      "{'_id': ObjectId('5d56fbe4ac21aa7abd9ca027')}\n",
      "{'_id': ObjectId('5d56fcc3ac21aa7abd9ca029')}\n",
      "{'_id': ObjectId('5d56fcd3ac21aa7abd9ca02a')}\n",
      "{'_id': ObjectId('5d570d10ac21aa7abd9ca02b'), 'time': datetime.datetime(2019, 1, 9, 13, 34, 23)}\n",
      "{'_id': ObjectId('5d570e11ac21aa7abd9ca02c'), 'time': datetime.datetime(2019, 1, 9, 13, 34, 23), 'elt1': 34, 'elt2': 34, 'elt3': 4.3, 'elt4': b'azddqds'}\n",
      "{'_id': ObjectId('5d570e15ac21aa7abd9ca02d'), 'time': datetime.datetime(2019, 1, 9, 13, 34, 23), 'elt1': 34, 'elt2': 34, 'elt3': 4.3, 'elt4': b'azddqds'}\n",
      "{'_id': ObjectId('5d5712c2ac21aa7abd9ca02e'), 'time': datetime.datetime(2019, 1, 9, 13, 34, 23), 'elt1': {'name': 'elt1', 'unit': 'unit1', 'data': 34}, 'elt2': 34, 'elt3': 4.3, 'elt4': 4.3, 'elt5': b'azddqds', 'elt6': [1, 2, 3.4, 4, 5]}\n",
      "{'_id': ObjectId('5d5712d2ac21aa7abd9ca02f'), 'time': datetime.datetime(2019, 1, 9, 13, 34, 23), 'elt1': {'name': 'elt1', 'unit': 'unit1', 'data': 34}, 'elt2': 34, 'elt3': 4.3, 'elt4': 4.3, 'elt5': b'azddqds', 'elt6': [1, 2, 3.4, 4, 5]}\n"
     ]
    }
   ],
   "source": [
    "for elt in client.sc.s4gt6dd.find({}):\n",
    "    print(elt)"
   ]
  },
  {
   "cell_type": "code",
   "execution_count": 10,
   "metadata": {},
   "outputs": [],
   "source": [
    "pipeline = [{\n",
    "    \"$project\": {\n",
    "        \"_id\": 0,\n",
    "        \"name\": '$homeworld.name',\n",
    "        \"rotation_period\": '$homeworld.rotation_period',\n",
    "        \"orbital_period\": '$homeworld.orbital_period',\n",
    "        \"diameter\": '$homeworld.diameter',\n",
    "        \"climate\": '$homeworld.climate'\n",
    "        }\n",
    "    }\n",
    "]"
   ]
  },
  {
   "cell_type": "code",
   "execution_count": 11,
   "metadata": {},
   "outputs": [],
   "source": [
    "people = client.starwars.get_collection(\"people\")"
   ]
  },
  {
   "cell_type": "code",
   "execution_count": 12,
   "metadata": {},
   "outputs": [],
   "source": [
    "cursor = people.aggregate(pipeline)"
   ]
  },
  {
   "cell_type": "code",
   "execution_count": 13,
   "metadata": {},
   "outputs": [
    {
     "data": {
      "text/plain": [
       "{'name': 'Tatooine',\n",
       " 'rotation_period': 23,\n",
       " 'orbital_period': 304,\n",
       " 'diameter': 10465,\n",
       " 'climate': 'arid'}"
      ]
     },
     "execution_count": 13,
     "metadata": {},
     "output_type": "execute_result"
    }
   ],
   "source": [
    "cursor.next()"
   ]
  },
  {
   "cell_type": "code",
   "execution_count": 14,
   "metadata": {},
   "outputs": [],
   "source": [
    "res = people.find_one()"
   ]
  },
  {
   "cell_type": "code",
   "execution_count": 15,
   "metadata": {},
   "outputs": [],
   "source": [
    "cursor = people.find({})"
   ]
  },
  {
   "cell_type": "code",
   "execution_count": 33,
   "metadata": {},
   "outputs": [
    {
     "data": {
      "text/plain": [
       "Collection(Database(MongoClient(host=['db.mongo.app.com:27017'], document_class=dict, tz_aware=False, connect=True), 'starwars'), 'people')"
      ]
     },
     "execution_count": 33,
     "metadata": {},
     "output_type": "execute_result"
    }
   ],
   "source": [
    "cursor.collection"
   ]
  },
  {
   "cell_type": "code",
   "execution_count": 17,
   "metadata": {},
   "outputs": [
    {
     "data": {
      "text/plain": [
       "dict_keys(['_id', 'name', 'height', 'mass', 'hair_color', 'skin_color', 'eye_color', 'birth_year', 'gender', 'homeworld', 'films', 'species', 'vehicles', 'starships', 'created', 'edited', 'url'])"
      ]
     },
     "execution_count": 17,
     "metadata": {},
     "output_type": "execute_result"
    }
   ],
   "source": [
    "res.keys()"
   ]
  },
  {
   "cell_type": "code",
   "execution_count": 18,
   "metadata": {},
   "outputs": [
    {
     "data": {
      "text/plain": [
       "{'name': 'Tatooine',\n",
       " 'rotation_period': 23,\n",
       " 'orbital_period': 304,\n",
       " 'diameter': 10465,\n",
       " 'climate': 'arid',\n",
       " 'gravity': '1 standard',\n",
       " 'terrain': 'desert',\n",
       " 'surface_water': 1,\n",
       " 'population': 200000,\n",
       " 'residents': ['https://swapi.co/api/people/1/',\n",
       "  'https://swapi.co/api/people/2/',\n",
       "  'https://swapi.co/api/people/4/',\n",
       "  'https://swapi.co/api/people/6/',\n",
       "  'https://swapi.co/api/people/7/',\n",
       "  'https://swapi.co/api/people/8/',\n",
       "  'https://swapi.co/api/people/9/',\n",
       "  'https://swapi.co/api/people/11/',\n",
       "  'https://swapi.co/api/people/43/',\n",
       "  'https://swapi.co/api/people/62/'],\n",
       " 'films': ['https://swapi.co/api/films/5/',\n",
       "  'https://swapi.co/api/films/4/',\n",
       "  'https://swapi.co/api/films/6/',\n",
       "  'https://swapi.co/api/films/3/',\n",
       "  'https://swapi.co/api/films/1/'],\n",
       " 'created': '2014-12-09T13:50:49.641000Z',\n",
       " 'edited': '2014-12-21T20:48:04.175778Z',\n",
       " 'url': 'https://swapi.co/api/planets/1/'}"
      ]
     },
     "execution_count": 18,
     "metadata": {},
     "output_type": "execute_result"
    }
   ],
   "source": [
    "res['homeworld']"
   ]
  },
  {
   "cell_type": "code",
   "execution_count": 19,
   "metadata": {},
   "outputs": [
    {
     "name": "stdout",
     "output_type": "stream",
     "text": [
      "peak memory: 65.05 MiB, increment: 0.09 MiB\n"
     ]
    }
   ],
   "source": [
    "%%memit\n",
    "df = spark.read.format(\"mongo\").\\\n",
    "    option(\"spark.mongodb.input.database\", database).\\\n",
    "    option(\"spark.mongodb.input.collection\", collection).\\\n",
    "    option(\"pipeline\", pipeline).\\\n",
    "    load()"
   ]
  },
  {
   "cell_type": "code",
   "execution_count": 20,
   "metadata": {},
   "outputs": [
    {
     "name": "stdout",
     "output_type": "stream",
     "text": [
      "+---------+--------+--------+--------------+---------------+\n",
      "|  climate|diameter|    name|orbital_period|rotation_period|\n",
      "+---------+--------+--------+--------------+---------------+\n",
      "|     arid|   10465|Tatooine|           304|             23|\n",
      "|     arid|   10465|Tatooine|           304|             23|\n",
      "|temperate|   12120|   Naboo|           312|             26|\n",
      "|     arid|   10465|Tatooine|           304|             23|\n",
      "|temperate|   12500|Alderaan|           364|             24|\n",
      "|     arid|   10465|Tatooine|           304|             23|\n",
      "|     arid|   10465|Tatooine|           304|             23|\n",
      "|     arid|   10465|Tatooine|           304|             23|\n",
      "|     arid|   10465|Tatooine|           304|             23|\n",
      "|temperate|       0| Stewjon|       unknown|        unknown|\n",
      "+---------+--------+--------+--------------+---------------+\n",
      "\n"
     ]
    }
   ],
   "source": [
    "df.show()"
   ]
  },
  {
   "cell_type": "code",
   "execution_count": 21,
   "metadata": {},
   "outputs": [
    {
     "name": "stdout",
     "output_type": "stream",
     "text": [
      "+---------+--------+--------+--------------+---------------+\n",
      "|  climate|diameter|    name|orbital_period|rotation_period|\n",
      "+---------+--------+--------+--------------+---------------+\n",
      "|     arid|   10465|Tatooine|           304|             23|\n",
      "|temperate|   12500|Alderaan|           364|             24|\n",
      "|temperate|   12120|   Naboo|           312|             26|\n",
      "|temperate|       0| Stewjon|       unknown|        unknown|\n",
      "+---------+--------+--------+--------------+---------------+\n",
      "\n"
     ]
    }
   ],
   "source": [
    "df.distinct().show()"
   ]
  },
  {
   "cell_type": "code",
   "execution_count": 22,
   "metadata": {},
   "outputs": [
    {
     "name": "stdout",
     "output_type": "stream",
     "text": [
      "root\n",
      " |-- climate: string (nullable = true)\n",
      " |-- diameter: integer (nullable = true)\n",
      " |-- name: string (nullable = true)\n",
      " |-- orbital_period: string (nullable = true)\n",
      " |-- rotation_period: string (nullable = true)\n",
      "\n"
     ]
    }
   ],
   "source": [
    "df.printSchema()"
   ]
  },
  {
   "cell_type": "code",
   "execution_count": 23,
   "metadata": {},
   "outputs": [],
   "source": [
    "df2 = df.distinct().toPandas()"
   ]
  },
  {
   "cell_type": "code",
   "execution_count": 24,
   "metadata": {},
   "outputs": [],
   "source": [
    "df.createOrReplaceTempView(\"temp\")"
   ]
  },
  {
   "cell_type": "code",
   "execution_count": 25,
   "metadata": {},
   "outputs": [
    {
     "name": "stdout",
     "output_type": "stream",
     "text": [
      "+---------+\n",
      "|  climate|\n",
      "+---------+\n",
      "|temperate|\n",
      "|     arid|\n",
      "+---------+\n",
      "\n"
     ]
    }
   ],
   "source": [
    "spark.sql(\"SELECT DISTINCT climate FROM temp WHERE diameter < 11000\").show()"
   ]
  },
  {
   "cell_type": "code",
   "execution_count": null,
   "metadata": {},
   "outputs": [],
   "source": []
  }
 ],
 "metadata": {
  "kernelspec": {
   "display_name": "Python 3",
   "language": "python",
   "name": "python3"
  },
  "language_info": {
   "codemirror_mode": {
    "name": "ipython",
    "version": 3
   },
   "file_extension": ".py",
   "mimetype": "text/x-python",
   "name": "python",
   "nbconvert_exporter": "python",
   "pygments_lexer": "ipython3",
   "version": "3.7.3"
  }
 },
 "nbformat": 4,
 "nbformat_minor": 4
}
